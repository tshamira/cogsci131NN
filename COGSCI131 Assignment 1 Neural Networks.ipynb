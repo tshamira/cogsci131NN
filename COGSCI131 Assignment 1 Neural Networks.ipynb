{
 "cells": [
  {
   "cell_type": "code",
   "execution_count": 1,
   "metadata": {},
   "outputs": [],
   "source": [
    "import numpy as np\n",
    "%matplotlib inline\n",
    "import matplotlib.pyplot as plt\n",
    "\n",
    "class Neural_Network(object):\n",
    "    def __init__(self):\n",
    "        #Define Parameters\n",
    "        self.inputLayerSize = 2\n",
    "        self.outputLayerSize=1\n",
    "        self.hiddenLayerSize=3\n",
    "        '''\n",
    "        self.hiddenLayerSize_4 = 4\n",
    "        self.hiddenLayerSize_10 = 10\n",
    "        '''\n",
    "        np.random.seed(7)\n",
    "        #Define Weights\n",
    "        self.W1=np.random.rand(self.inputLayerSize,self.hiddenLayerSize)\n",
    "        self.W2=np.random.rand(self.hiddenLayerSize,self.outputLayerSize)\n",
    "        \n",
    "   \n",
    "    def forward(self,X):\n",
    "        #Propagate inputs through network\n",
    "        self.z2 = np.dot(X,self.W1)\n",
    "        self.a2 = self.sigmoid(self.z2)\n",
    "        self.z3 = np.dot(self.a2,self.W2)\n",
    "        yHat = self.sigmoid(self.z3)\n",
    "        return yHat\n",
    "    \n",
    "    def sigmoid(self, z):\n",
    "        #Apply Sigmoid Activation Function\n",
    "        return 1/(1+np.exp(-z))\n",
    "    \n",
    "    def sigmoidPrime(self,z):\n",
    "        #Derivative of Sigmoid Function\n",
    "        return np.exp(-z)/((1+np.exp(-z))**2)\n",
    "    \n",
    "    def relu(self, z):\n",
    "        return np.maximum(0, z)\n",
    "    \n",
    "    def reluPrime(self,z):\n",
    "        return 1 * (z > 0)\n",
    "\n",
    "    def costFunction(self, X, y):\n",
    "        #Compute Cost Function with weights already stored in class\n",
    "        self.yHat=self.forward(X)\n",
    "        J=0.5*sum((y-self.yHat)**2)\n",
    "        return J\n",
    "    \n",
    "    def costFunctionPrime(self, X, y):\n",
    "        #Compute derivatives with respect to W1 and W2\n",
    "        self.yHat=self.forward(X)\n",
    "        \n",
    "        delta3 = np.multiply(-(y-self.yHat),self.sigmoidPrime(self.z3))\n",
    "        dJdW2=np.dot(self.a2.T,delta3)\n",
    "        \n",
    "        delta2=np.dot(delta3,self.W2.T)*self.sigmoidPrime(self.z2)\n",
    "        dJdW1=np.dot(X.T,delta2)\n",
    "        return dJdW1, dJdW2\n",
    "\n",
    "    \n",
    "    def forwardRelu(self, X):\n",
    "        #Propagate inputs through network\n",
    "        self.z2_relu  = np.dot(X,self.W1)\n",
    "        self.a2_relu = self.relu(self.z2_relu)\n",
    "        self.z3_relu = np.dot(self.a2_relu,self.W2)\n",
    "        yHat_relu = self.relu(self.z3_relu)\n",
    "        return yHat_relu\n",
    "    \n",
    "\n",
    "    def costFunctionRelu(self, X, y):\n",
    "        #Compute Cost Function with weights already stored in class\n",
    "        self.yHat_relu=self.forwardRelu(X)\n",
    "        J_relu=0.5*sum((y-self.yHat_relu)**2)\n",
    "        return J_relu\n",
    "    \n",
    "    def costFunctionPrimeRelu(self, X, y):\n",
    "        #Compute derivatives with respect to W1 and W2\n",
    "        self.yHat_relu=self.forwardRelu(X)\n",
    "        \n",
    "        delta3_relu = np.multiply(-(y-self.yHat_relu),self.reluPrime(self.z3_relu))\n",
    "        dJdW2_relu=np.dot(self.a2_relu.T, delta3_relu)\n",
    "        \n",
    "        delta2_relu=np.dot(delta3_relu,self.W2.T)*self.reluPrime(self.z3_relu)\n",
    "        dJdW1_relu=np.dot(X.T,delta2_relu)\n",
    "        return dJdW1_relu, dJdW2_relu"
   ]
  },
  {
   "cell_type": "code",
   "execution_count": 2,
   "metadata": {},
   "outputs": [],
   "source": [
    "X=np.array(([3,5],[5,1],[10,1]),dtype=float)\n",
    "y=np.array(([75],[80],[93]),dtype=float)"
   ]
  },
  {
   "cell_type": "code",
   "execution_count": 3,
   "metadata": {},
   "outputs": [
    {
     "data": {
      "text/plain": [
       "array([[ 3.,  5.],\n",
       "       [ 5.,  1.],\n",
       "       [10.,  1.]])"
      ]
     },
     "execution_count": 3,
     "metadata": {},
     "output_type": "execute_result"
    }
   ],
   "source": [
    "X\n"
   ]
  },
  {
   "cell_type": "code",
   "execution_count": 4,
   "metadata": {},
   "outputs": [
    {
     "data": {
      "text/plain": [
       "array([[75.],\n",
       "       [80.],\n",
       "       [93.]])"
      ]
     },
     "execution_count": 4,
     "metadata": {},
     "output_type": "execute_result"
    }
   ],
   "source": [
    "y"
   ]
  },
  {
   "cell_type": "code",
   "execution_count": 5,
   "metadata": {},
   "outputs": [],
   "source": [
    "X=X/np.amax(X,axis=0)\n",
    "y=y/100"
   ]
  },
  {
   "cell_type": "code",
   "execution_count": 6,
   "metadata": {},
   "outputs": [
    {
     "data": {
      "text/plain": [
       "(array([[0.3, 1. ],\n",
       "        [0.5, 0.2],\n",
       "        [1. , 0.2]]),\n",
       " array([[0.75],\n",
       "        [0.8 ],\n",
       "        [0.93]]))"
      ]
     },
     "execution_count": 6,
     "metadata": {},
     "output_type": "execute_result"
    }
   ],
   "source": [
    "X,y\n"
   ]
  },
  {
   "cell_type": "code",
   "execution_count": 7,
   "metadata": {},
   "outputs": [],
   "source": [
    "NN=Neural_Network()"
   ]
  },
  {
   "cell_type": "code",
   "execution_count": 8,
   "metadata": {},
   "outputs": [],
   "source": [
    "yH=NN.forward(X)"
   ]
  },
  {
   "cell_type": "code",
   "execution_count": 9,
   "metadata": {},
   "outputs": [
    {
     "data": {
      "text/plain": [
       "array([[0.63946727],\n",
       "       [0.61672017],\n",
       "       [0.62256371]])"
      ]
     },
     "execution_count": 9,
     "metadata": {},
     "output_type": "execute_result"
    }
   ],
   "source": [
    "yH"
   ]
  },
  {
   "cell_type": "code",
   "execution_count": 10,
   "metadata": {},
   "outputs": [
    {
     "data": {
      "text/plain": [
       "array([[0.75],\n",
       "       [0.8 ],\n",
       "       [0.93]])"
      ]
     },
     "execution_count": 10,
     "metadata": {},
     "output_type": "execute_result"
    }
   ],
   "source": [
    "y"
   ]
  },
  {
   "cell_type": "code",
   "execution_count": 11,
   "metadata": {},
   "outputs": [
    {
     "data": {
      "text/plain": [
       "<matplotlib.legend.Legend at 0x7f9d4800d160>"
      ]
     },
     "execution_count": 11,
     "metadata": {},
     "output_type": "execute_result"
    },
    {
     "data": {
      "image/png": "[encoded data removed]",
      "text/plain": [
       "<Figure size 432x288 with 1 Axes>"
      ]
     },
     "metadata": {
      "needs_background": "light"
     },
     "output_type": "display_data"
    }
   ],
   "source": [
    "testValues=np.arange(-5,5,0.01)\n",
    "plt.plot(testValues,NN.sigmoid(testValues),linewidth=2)\n",
    "plt.plot(testValues, NN.sigmoidPrime(testValues),linewidth=2)\n",
    "plt.grid(1)\n",
    "plt.legend(['Sigmoid','SigmoidPrime'])\n",
    "#u=NN.sigmoidPrime(testValues)\n"
   ]
  },
  {
   "cell_type": "code",
   "execution_count": 12,
   "metadata": {},
   "outputs": [],
   "source": [
    "NN=Neural_Network()"
   ]
  },
  {
   "cell_type": "code",
   "execution_count": 13,
   "metadata": {},
   "outputs": [],
   "source": [
    "cost1=NN.costFunction(X,y)"
   ]
  },
  {
   "cell_type": "code",
   "execution_count": 14,
   "metadata": {},
   "outputs": [],
   "source": [
    "dJdW1,dJdW2=NN.costFunctionPrime(X,y)"
   ]
  },
  {
   "cell_type": "code",
   "execution_count": 15,
   "metadata": {},
   "outputs": [
    {
     "data": {
      "text/plain": [
       "array([[-0.01246778, -0.00149081, -0.0063789 ],\n",
       "       [-0.0056508 , -0.00067493, -0.00299872]])"
      ]
     },
     "execution_count": 15,
     "metadata": {},
     "output_type": "execute_result"
    }
   ],
   "source": [
    "dJdW1"
   ]
  },
  {
   "cell_type": "code",
   "execution_count": 16,
   "metadata": {},
   "outputs": [
    {
     "data": {
      "text/plain": [
       "array([[-0.08101936],\n",
       "       [-0.09992943],\n",
       "       [-0.08777346]])"
      ]
     },
     "execution_count": 16,
     "metadata": {},
     "output_type": "execute_result"
    }
   ],
   "source": [
    "dJdW2"
   ]
  },
  {
   "cell_type": "code",
   "execution_count": 17,
   "metadata": {},
   "outputs": [
    {
     "name": "stdout",
     "output_type": "stream",
     "text": [
      "[0.07016303] [0.17120053]\n"
     ]
    }
   ],
   "source": [
    "scalar=3\n",
    "NN.W1 = NN.W1+scalar*dJdW1\n",
    "NN.W2 = NN.W2+scalar*dJdW2\n",
    "cost2 = NN.costFunction(X,y)\n",
    "print (cost1,cost2)"
   ]
  },
  {
   "cell_type": "code",
   "execution_count": 18,
   "metadata": {},
   "outputs": [
    {
     "name": "stdout",
     "output_type": "stream",
     "text": [
      "[0.17120053] [0.07016303]\n"
     ]
    }
   ],
   "source": [
    "scalar=3\n",
    "NN.W1 = NN.W1-scalar*dJdW1\n",
    "NN.W2 = NN.W2-scalar*dJdW2\n",
    "cost3 = NN.costFunction(X,y)\n",
    "print (cost2,cost3)"
   ]
  },
  {
   "cell_type": "markdown",
   "metadata": {},
   "source": [
    "## Problem 1: Understand the stucture of a neural network"
   ]
  },
  {
   "cell_type": "code",
   "execution_count": 19,
   "metadata": {},
   "outputs": [
    {
     "data": {
      "text/plain": [
       "array([0.07016303, 0.06422766, 0.05899456, 0.05437028, 0.05027427,\n",
       "       0.04663732, 0.04339998, 0.04051118, 0.03792707, 0.03560994,\n",
       "       0.0335273 , 0.03165111, 0.02995713, 0.02842438, 0.0270346 ,\n",
       "       0.02577193, 0.02462252, 0.02357426, 0.02261653, 0.02174   ,\n",
       "       0.02093646, 0.02019865, 0.01952016, 0.0188953 , 0.018319  ,\n",
       "       0.01778677, 0.0172946 , 0.01683888, 0.01641641, 0.0160243 ,\n",
       "       0.01565995, 0.01532102, 0.01500541, 0.01471121, 0.0144367 ,\n",
       "       0.01418031, 0.01394062, 0.01371635, 0.01350631, 0.01330944,\n",
       "       0.01312477, 0.01295138, 0.01278848, 0.0126353 , 0.01249116,\n",
       "       0.01235542, 0.01222752, 0.0121069 , 0.01199308, 0.01188561,\n",
       "       0.01178406, 0.01168804, 0.0115972 , 0.01151121, 0.01142975,\n",
       "       0.01135254, 0.01127931, 0.01120983, 0.01114385, 0.01108117,\n",
       "       0.01102159, 0.01096492, 0.010911  , 0.01085965, 0.01081073,\n",
       "       0.01076409, 0.01071962, 0.01067718, 0.01063666, 0.01059795,\n",
       "       0.01056095, 0.01052556, 0.0104917 , 0.01045929, 0.01042824,\n",
       "       0.01039848, 0.01036995, 0.01034257, 0.01031629, 0.01029105,\n",
       "       0.01026679, 0.01024346, 0.01022102, 0.01019942, 0.01017861,\n",
       "       0.01015856, 0.01013923, 0.01012058, 0.01010258, 0.01008519,\n",
       "       0.01006838, 0.01005213, 0.01003641, 0.0100212 , 0.01000646,\n",
       "       0.00999217, 0.00997832, 0.00996488, 0.00995183, 0.00993916,\n",
       "       0.00992684, 0.00991487, 0.00990321, 0.00989187, 0.00988081,\n",
       "       0.00987004, 0.00985954, 0.00984929, 0.00983928, 0.0098295 ,\n",
       "       0.00981995, 0.00981061, 0.00980147, 0.00979252, 0.00978376,\n",
       "       0.00977517, 0.00976675, 0.00975849, 0.00975039, 0.00974243,\n",
       "       0.00973461, 0.00972693, 0.00971937, 0.00971194, 0.00970462,\n",
       "       0.00969742, 0.00969032, 0.00968333, 0.00967643, 0.00966963,\n",
       "       0.00966292, 0.0096563 , 0.00964976, 0.00964329, 0.00963691,\n",
       "       0.00963059, 0.00962435, 0.00961817, 0.00961206, 0.00960601,\n",
       "       0.00960002, 0.00959408, 0.0095882 , 0.00958237, 0.00957659,\n",
       "       0.00957086, 0.00956518, 0.00955954, 0.00955394, 0.00954838,\n",
       "       0.00954286, 0.00953738, 0.00953194, 0.00952653, 0.00952116,\n",
       "       0.00951581, 0.0095105 , 0.00950522, 0.00949996, 0.00949474,\n",
       "       0.00948954, 0.00948436, 0.00947921, 0.00947409, 0.00946899,\n",
       "       0.00946391, 0.00945885, 0.00945381, 0.00944879, 0.00944379,\n",
       "       0.00943881, 0.00943385, 0.0094289 , 0.00942397, 0.00941906,\n",
       "       0.00941416, 0.00940928, 0.00940441, 0.00939956, 0.00939471,\n",
       "       0.00938989, 0.00938507, 0.00938027, 0.00937548, 0.0093707 ,\n",
       "       0.00936594, 0.00936118, 0.00935643, 0.0093517 , 0.00934697,\n",
       "       0.00934226, 0.00933755, 0.00933286, 0.00932817, 0.00932349,\n",
       "       0.00931882, 0.00931416, 0.0093095 , 0.00930485, 0.00930022,\n",
       "       0.00929559, 0.00929096, 0.00928634, 0.00928173, 0.00927713,\n",
       "       0.00927253, 0.00926794, 0.00926336, 0.00925878, 0.00925421,\n",
       "       0.00924965, 0.00924509, 0.00924053, 0.00923599, 0.00923144,\n",
       "       0.00922691, 0.00922237, 0.00921785, 0.00921333, 0.00920881,\n",
       "       0.0092043 , 0.00919979, 0.00919529, 0.00919079, 0.0091863 ,\n",
       "       0.00918181, 0.00917733, 0.00917285, 0.00916838, 0.00916391,\n",
       "       0.00915944, 0.00915498, 0.00915052, 0.00914607, 0.00914162,\n",
       "       0.00913718, 0.00913274, 0.0091283 , 0.00912387, 0.00911944,\n",
       "       0.00911501, 0.00911059, 0.00910617, 0.00910176, 0.00909735,\n",
       "       0.00909294, 0.00908854, 0.00908414, 0.00907974, 0.00907535,\n",
       "       0.00907096, 0.00906657, 0.00906219, 0.00905781, 0.00905344,\n",
       "       0.00904907, 0.0090447 , 0.00904033, 0.00903597, 0.00903161,\n",
       "       0.00902726, 0.00902291, 0.00901856, 0.00901421, 0.00900987,\n",
       "       0.00900553, 0.00900119, 0.00899686, 0.00899253, 0.00898821,\n",
       "       0.00898388, 0.00897956, 0.00897525, 0.00897093, 0.00896662,\n",
       "       0.00896231, 0.00895801, 0.00895371, 0.00894941, 0.00894511,\n",
       "       0.00894082, 0.00893653, 0.00893224, 0.00892796, 0.00892368,\n",
       "       0.0089194 , 0.00891512, 0.00891085, 0.00890658, 0.00890232,\n",
       "       0.00889805, 0.00889379, 0.00888953, 0.00888528, 0.00888103,\n",
       "       0.00887678, 0.00887253, 0.00886829, 0.00886405, 0.00885981,\n",
       "       0.00885557, 0.00885134, 0.00884711, 0.00884289, 0.00883866,\n",
       "       0.00883444, 0.00883022, 0.00882601, 0.0088218 , 0.00881758,\n",
       "       0.00881338, 0.00880917, 0.00880497, 0.00880077, 0.00879658,\n",
       "       0.00879238, 0.00878819, 0.008784  , 0.00877982, 0.00877563,\n",
       "       0.00877145, 0.00876728, 0.0087631 , 0.00875893, 0.00875476,\n",
       "       0.00875059, 0.00874643, 0.00874227, 0.00873811, 0.00873395,\n",
       "       0.0087298 , 0.00872565, 0.0087215 , 0.00871735, 0.00871321,\n",
       "       0.00870907, 0.00870493, 0.0087008 , 0.00869666, 0.00869253,\n",
       "       0.00868841, 0.00868428, 0.00868016, 0.00867604, 0.00867192,\n",
       "       0.00866781, 0.0086637 , 0.00865959, 0.00865548, 0.00865137,\n",
       "       0.00864727, 0.00864317, 0.00863908, 0.00863498, 0.00863089,\n",
       "       0.0086268 , 0.00862271, 0.00861863, 0.00861455, 0.00861047,\n",
       "       0.00860639, 0.00860232, 0.00859824, 0.00859417, 0.00859011,\n",
       "       0.00858604, 0.00858198, 0.00857792, 0.00857386, 0.00856981,\n",
       "       0.00856576, 0.00856171, 0.00855766, 0.00855361, 0.00854957,\n",
       "       0.00854553, 0.00854149, 0.00853746, 0.00853343, 0.0085294 ,\n",
       "       0.00852537, 0.00852134, 0.00851732, 0.0085133 , 0.00850928,\n",
       "       0.00850526, 0.00850125, 0.00849724, 0.00849323, 0.00848922,\n",
       "       0.00848522, 0.00848122, 0.00847722, 0.00847322, 0.00846923,\n",
       "       0.00846523, 0.00846124, 0.00845726, 0.00845327, 0.00844929,\n",
       "       0.00844531, 0.00844133, 0.00843735, 0.00843338, 0.00842941,\n",
       "       0.00842544, 0.00842147, 0.00841751, 0.00841354, 0.00840958,\n",
       "       0.00840563, 0.00840167, 0.00839772, 0.00839377, 0.00838982,\n",
       "       0.00838587, 0.00838193, 0.00837799, 0.00837405, 0.00837011,\n",
       "       0.00836617, 0.00836224, 0.00835831, 0.00835438, 0.00835046,\n",
       "       0.00834653, 0.00834261, 0.00833869, 0.00833477, 0.00833086,\n",
       "       0.00832695, 0.00832304, 0.00831913, 0.00831522, 0.00831132,\n",
       "       0.00830742, 0.00830352, 0.00829962, 0.00829572, 0.00829183,\n",
       "       0.00828794, 0.00828405, 0.00828017, 0.00827628, 0.0082724 ,\n",
       "       0.00826852, 0.00826464, 0.00826077, 0.00825689, 0.00825302,\n",
       "       0.00824915, 0.00824529, 0.00824142, 0.00823756, 0.0082337 ,\n",
       "       0.00822984, 0.00822598, 0.00822213, 0.00821828, 0.00821443,\n",
       "       0.00821058, 0.00820673, 0.00820289, 0.00819905, 0.00819521,\n",
       "       0.00819137, 0.00818754, 0.0081837 , 0.00817987, 0.00817604,\n",
       "       0.00817222, 0.00816839, 0.00816457, 0.00816075, 0.00815693,\n",
       "       0.00815311, 0.0081493 , 0.00814549, 0.00814167, 0.00813787,\n",
       "       0.00813406, 0.00813026, 0.00812645, 0.00812265, 0.00811886,\n",
       "       0.00811506, 0.00811127, 0.00810747, 0.00810368, 0.00809989,\n",
       "       0.00809611, 0.00809232, 0.00808854, 0.00808476, 0.00808098,\n",
       "       0.00807721, 0.00807343, 0.00806966, 0.00806589, 0.00806212,\n",
       "       0.00805836, 0.00805459, 0.00805083, 0.00804707, 0.00804331,\n",
       "       0.00803956, 0.0080358 , 0.00803205, 0.0080283 , 0.00802455,\n",
       "       0.00802081, 0.00801706, 0.00801332, 0.00800958, 0.00800584,\n",
       "       0.0080021 , 0.00799837, 0.00799464, 0.00799091, 0.00798718,\n",
       "       0.00798345, 0.00797972, 0.007976  , 0.00797228, 0.00796856,\n",
       "       0.00796484, 0.00796113, 0.00795741, 0.0079537 , 0.00794999,\n",
       "       0.00794628, 0.00794258, 0.00793887, 0.00793517, 0.00793147,\n",
       "       0.00792777, 0.00792408, 0.00792038, 0.00791669, 0.007913  ,\n",
       "       0.00790931, 0.00790562, 0.00790194, 0.00789825, 0.00789457,\n",
       "       0.00789089, 0.00788721, 0.00788354, 0.00787986, 0.00787619,\n",
       "       0.00787252, 0.00786885, 0.00786518, 0.00786152, 0.00785785,\n",
       "       0.00785419, 0.00785053, 0.00784688, 0.00784322, 0.00783957,\n",
       "       0.00783591, 0.00783226, 0.00782861, 0.00782497, 0.00782132,\n",
       "       0.00781768, 0.00781404, 0.0078104 , 0.00780676, 0.00780312,\n",
       "       0.00779949, 0.00779586, 0.00779222, 0.0077886 , 0.00778497,\n",
       "       0.00778134, 0.00777772, 0.0077741 , 0.00777048, 0.00776686,\n",
       "       0.00776324, 0.00775963, 0.00775601, 0.0077524 , 0.00774879,\n",
       "       0.00774518, 0.00774158, 0.00773797, 0.00773437, 0.00773077,\n",
       "       0.00772717, 0.00772357, 0.00771998, 0.00771638, 0.00771279,\n",
       "       0.0077092 , 0.00770561, 0.00770202, 0.00769844, 0.00769485,\n",
       "       0.00769127, 0.00768769, 0.00768411, 0.00768054, 0.00767696,\n",
       "       0.00767339, 0.00766981, 0.00766624, 0.00766268, 0.00765911,\n",
       "       0.00765554, 0.00765198, 0.00764842, 0.00764486, 0.0076413 ,\n",
       "       0.00763774, 0.00763419, 0.00763064, 0.00762708, 0.00762353,\n",
       "       0.00761999, 0.00761644, 0.00761289, 0.00760935, 0.00760581,\n",
       "       0.00760227, 0.00759873, 0.00759519, 0.00759166, 0.00758812,\n",
       "       0.00758459, 0.00758106, 0.00757753, 0.00757401, 0.00757048,\n",
       "       0.00756696, 0.00756343, 0.00755991, 0.0075564 , 0.00755288,\n",
       "       0.00754936, 0.00754585, 0.00754234, 0.00753883, 0.00753532,\n",
       "       0.00753181, 0.0075283 , 0.0075248 , 0.0075213 , 0.00751779,\n",
       "       0.00751429, 0.0075108 , 0.0075073 , 0.0075038 , 0.00750031,\n",
       "       0.00749682, 0.00749333, 0.00748984, 0.00748635, 0.00748287,\n",
       "       0.00747939, 0.0074759 , 0.00747242, 0.00746894, 0.00746547,\n",
       "       0.00746199, 0.00745852, 0.00745504, 0.00745157, 0.0074481 ,\n",
       "       0.00744463, 0.00744117, 0.0074377 , 0.00743424, 0.00743078,\n",
       "       0.00742732, 0.00742386, 0.0074204 , 0.00741694, 0.00741349,\n",
       "       0.00741004, 0.00740659, 0.00740314, 0.00739969, 0.00739624,\n",
       "       0.0073928 , 0.00738935, 0.00738591, 0.00738247, 0.00737903,\n",
       "       0.00737559, 0.00737216, 0.00736872, 0.00736529, 0.00736186,\n",
       "       0.00735843, 0.007355  , 0.00735157, 0.00734815, 0.00734472,\n",
       "       0.0073413 , 0.00733788, 0.00733446, 0.00733104, 0.00732762,\n",
       "       0.00732421, 0.0073208 , 0.00731738, 0.00731397, 0.00731056,\n",
       "       0.00730716, 0.00730375, 0.00730034, 0.00729694, 0.00729354,\n",
       "       0.00729014, 0.00728674, 0.00728334, 0.00727995, 0.00727655,\n",
       "       0.00727316, 0.00726977, 0.00726638, 0.00726299, 0.0072596 ,\n",
       "       0.00725621, 0.00725283, 0.00724945, 0.00724607, 0.00724269,\n",
       "       0.00723931, 0.00723593, 0.00723255, 0.00722918, 0.00722581,\n",
       "       0.00722243, 0.00721906, 0.0072157 , 0.00721233, 0.00720896,\n",
       "       0.0072056 , 0.00720224, 0.00719887, 0.00719551, 0.00719216,\n",
       "       0.0071888 , 0.00718544, 0.00718209, 0.00717873, 0.00717538,\n",
       "       0.00717203, 0.00716868, 0.00716534, 0.00716199, 0.00715864,\n",
       "       0.0071553 , 0.00715196, 0.00714862, 0.00714528, 0.00714194,\n",
       "       0.00713861, 0.00713527, 0.00713194, 0.00712861, 0.00712527,\n",
       "       0.00712194, 0.00711862, 0.00711529, 0.00711196, 0.00710864,\n",
       "       0.00710532, 0.007102  , 0.00709868, 0.00709536, 0.00709204,\n",
       "       0.00708873, 0.00708541, 0.0070821 , 0.00707879, 0.00707548,\n",
       "       0.00707217, 0.00706886, 0.00706555, 0.00706225, 0.00705894,\n",
       "       0.00705564, 0.00705234, 0.00704904, 0.00704574, 0.00704245,\n",
       "       0.00703915, 0.00703586, 0.00703256, 0.00702927, 0.00702598,\n",
       "       0.00702269, 0.00701941, 0.00701612, 0.00701283, 0.00700955,\n",
       "       0.00700627, 0.00700299, 0.00699971, 0.00699643, 0.00699315,\n",
       "       0.00698988, 0.0069866 , 0.00698333, 0.00698006, 0.00697679,\n",
       "       0.00697352, 0.00697025, 0.00696698, 0.00696372, 0.00696046,\n",
       "       0.00695719, 0.00695393, 0.00695067, 0.00694741, 0.00694416,\n",
       "       0.0069409 , 0.00693764, 0.00693439, 0.00693114, 0.00692789,\n",
       "       0.00692464, 0.00692139, 0.00691814, 0.0069149 , 0.00691165,\n",
       "       0.00690841, 0.00690517, 0.00690193, 0.00689869, 0.00689545,\n",
       "       0.00689221, 0.00688898, 0.00688574, 0.00688251, 0.00687928,\n",
       "       0.00687605, 0.00687282, 0.00686959, 0.00686636, 0.00686314,\n",
       "       0.00685991, 0.00685669, 0.00685347, 0.00685025, 0.00684703,\n",
       "       0.00684381, 0.00684059, 0.00683738, 0.00683417, 0.00683095,\n",
       "       0.00682774, 0.00682453, 0.00682132, 0.00681811, 0.00681491,\n",
       "       0.0068117 , 0.0068085 , 0.00680529, 0.00680209, 0.00679889,\n",
       "       0.00679569, 0.00679249, 0.0067893 , 0.0067861 , 0.00678291,\n",
       "       0.00677972, 0.00677652, 0.00677333, 0.00677014, 0.00676696,\n",
       "       0.00676377, 0.00676058, 0.0067574 , 0.00675421, 0.00675103,\n",
       "       0.00674785, 0.00674467, 0.00674149, 0.00673832, 0.00673514,\n",
       "       0.00673197, 0.00672879, 0.00672562, 0.00672245, 0.00671928,\n",
       "       0.00671611, 0.00671294, 0.00670978, 0.00670661, 0.00670345,\n",
       "       0.00670028, 0.00669712, 0.00669396, 0.0066908 , 0.00668765,\n",
       "       0.00668449, 0.00668133, 0.00667818, 0.00667503, 0.00667187,\n",
       "       0.00666872, 0.00666557, 0.00666243, 0.00665928, 0.00665613,\n",
       "       0.00665299, 0.00664984, 0.0066467 , 0.00664356, 0.00664042,\n",
       "       0.00663728, 0.00663414, 0.00663101, 0.00662787, 0.00662474,\n",
       "       0.0066216 , 0.00661847, 0.00661534, 0.00661221, 0.00660908,\n",
       "       0.00660596, 0.00660283, 0.00659971, 0.00659658, 0.00659346,\n",
       "       0.00659034, 0.00658722, 0.0065841 , 0.00658098, 0.00657786,\n",
       "       0.00657475, 0.00657163, 0.00656852, 0.00656541, 0.0065623 ,\n",
       "       0.00655919, 0.00655608, 0.00655297, 0.00654987, 0.00654676,\n",
       "       0.00654366, 0.00654055, 0.00653745, 0.00653435, 0.00653125,\n",
       "       0.00652815, 0.00652506, 0.00652196, 0.00651887, 0.00651577,\n",
       "       0.00651268, 0.00650959, 0.0065065 , 0.00650341, 0.00650032,\n",
       "       0.00649723, 0.00649415, 0.00649106, 0.00648798, 0.0064849 ,\n",
       "       0.00648182, 0.00647874, 0.00647566, 0.00647258, 0.0064695 ,\n",
       "       0.00646643, 0.00646335, 0.00646028, 0.00645721, 0.00645414,\n",
       "       0.00645107, 0.006448  , 0.00644493, 0.00644186, 0.0064388 ,\n",
       "       0.00643573, 0.00643267, 0.00642961, 0.00642655, 0.00642349,\n",
       "       0.00642043, 0.00641737, 0.00641431, 0.00641126, 0.0064082 ,\n",
       "       0.00640515, 0.0064021 , 0.00639905, 0.006396  , 0.00639295,\n",
       "       0.0063899 , 0.00638685, 0.00638381, 0.00638076, 0.00637772])"
      ]
     },
     "execution_count": 19,
     "metadata": {},
     "output_type": "execute_result"
    }
   ],
   "source": [
    "NN_p1 = Neural_Network()\n",
    "scalar = 0.25\n",
    "costs_p1 = []\n",
    "for i in np.arange(0,1000):\n",
    "    cost_i_p1 = NN_p1.costFunction(X,y)\n",
    "    costs_p1 = np.append(costs_p1, cost_i_p1)\n",
    "    dJdW1, dJdW2 = NN_p1.costFunctionPrime(X,y)\n",
    "    NN_p1.W1 = NN_p1.W1 - scalar*dJdW1\n",
    "    NN_p1.W2 = NN_p1.W2 - scalar*dJdW2\n",
    "costs_p1"
   ]
  },
  {
   "cell_type": "markdown",
   "metadata": {},
   "source": [
    "### Question a) Write a program that minimizes the cost function to a given accuracy set in advance by you."
   ]
  },
  {
   "cell_type": "code",
   "execution_count": 20,
   "metadata": {},
   "outputs": [
    {
     "data": {
      "text/plain": [
       "0.9429925275584631"
      ]
     },
     "execution_count": 20,
     "metadata": {},
     "output_type": "execute_result"
    }
   ],
   "source": [
    "yHat_1 = np.array(NN_p1.forward(X))\n",
    "accuracy_1 = 1 - np.mean(np.abs(yHat_1 - y))\n",
    "accuracy_1"
   ]
  },
  {
   "cell_type": "code",
   "execution_count": 21,
   "metadata": {},
   "outputs": [],
   "source": [
    "#i feel like there should be something else here but i don't know what to code"
   ]
  },
  {
   "cell_type": "markdown",
   "metadata": {},
   "source": [
    "### Question b) Plot the cost vs. iteration and see if you get a similar figure to the one shown above. Scalar is a parameter that allows you to change the step of the iteration."
   ]
  },
  {
   "cell_type": "code",
   "execution_count": 22,
   "metadata": {},
   "outputs": [
    {
     "data": {
      "text/plain": [
       "Text(0.5, 1.0, 'Sigmoid Cost vs. Iteration Number, scalar = 0.25')"
      ]
     },
     "execution_count": 22,
     "metadata": {},
     "output_type": "execute_result"
    },
    {
     "data": {
      "image/png": "[encoded data removed]",
      "text/plain": [
       "<Figure size 432x288 with 1 Axes>"
      ]
     },
     "metadata": {
      "needs_background": "light"
     },
     "output_type": "display_data"
    }
   ],
   "source": [
    "plt.plot(np.arange(0, len(costs_p1)), costs_p1)\n",
    "plt.xlabel('Iteration Number')\n",
    "plt.ylabel('Cost')\n",
    "plt.title('Sigmoid Cost vs. Iteration Number, scalar = 0.25')"
   ]
  },
  {
   "cell_type": "markdown",
   "metadata": {},
   "source": [
    "## Problem 2: Use ReLu instead of sigmoid activation"
   ]
  },
  {
   "cell_type": "markdown",
   "metadata": {},
   "source": [
    "### Use the ReLu activation function instead of the sigmoid function. Compare how fast this neural network works with the one that uses the sigmoid function activation. "
   ]
  },
  {
   "cell_type": "code",
   "execution_count": 23,
   "metadata": {},
   "outputs": [
    {
     "data": {
      "text/plain": [
       "array([0.35463181, 0.15142702, 0.12232475, 0.10511913, 0.09260116,\n",
       "       0.08268489, 0.07462437, 0.06798452, 0.06246593, 0.05785008,\n",
       "       0.05397144, 0.05070165, 0.04793904, 0.04560172, 0.04362282,\n",
       "       0.04194703, 0.04052824, 0.03932764, 0.03831248, 0.03745491,\n",
       "       0.03673125, 0.03612129, 0.0356078 , 0.03517605, 0.03481349,\n",
       "       0.03450939, 0.03425464, 0.03404148, 0.03386331, 0.03371456,\n",
       "       0.03359049, 0.03348711, 0.03340104, 0.03332944, 0.03326994,\n",
       "       0.03322051, 0.03317949, 0.03314547, 0.03311727, 0.0330939 ,\n",
       "       0.03307455, 0.03305853, 0.03304528, 0.03303432, 0.03302526,\n",
       "       0.03301778, 0.03301159, 0.03300648, 0.03300226, 0.03299877,\n",
       "       0.0329959 , 0.03299352, 0.03299157, 0.03298995, 0.03298862,\n",
       "       0.03298752, 0.03298661, 0.03298586, 0.03298525, 0.03298474,\n",
       "       0.03298432, 0.03298398, 0.03298369, 0.03298346, 0.03298326,\n",
       "       0.0329831 , 0.03298297, 0.03298286, 0.03298278, 0.0329827 ,\n",
       "       0.03298264, 0.03298259, 0.03298255, 0.03298252, 0.03298249,\n",
       "       0.03298247, 0.03298245, 0.03298243, 0.03298242, 0.03298241,\n",
       "       0.0329824 , 0.03298239, 0.03298239, 0.03298238, 0.03298238,\n",
       "       0.03298237, 0.03298237, 0.03298237, 0.03298237, 0.03298237,\n",
       "       0.03298236, 0.03298236, 0.03298236, 0.03298236, 0.03298236,\n",
       "       0.03298236, 0.03298236, 0.03298236, 0.03298236, 0.03298236,\n",
       "       0.03298236, 0.03298236, 0.03298236, 0.03298236, 0.03298236,\n",
       "       0.03298236, 0.03298236, 0.03298236, 0.03298236, 0.03298236,\n",
       "       0.03298236, 0.03298236, 0.03298236, 0.03298236, 0.03298236,\n",
       "       0.03298236, 0.03298236, 0.03298236, 0.03298236, 0.03298236,\n",
       "       0.03298236, 0.03298236, 0.03298236, 0.03298236, 0.03298236,\n",
       "       0.03298236, 0.03298236, 0.03298236, 0.03298236, 0.03298236,\n",
       "       0.03298236, 0.03298236, 0.03298236, 0.03298236, 0.03298236,\n",
       "       0.03298236, 0.03298236, 0.03298236, 0.03298236, 0.03298236,\n",
       "       0.03298236, 0.03298236, 0.03298236, 0.03298236, 0.03298236,\n",
       "       0.03298236, 0.03298236, 0.03298236, 0.03298236, 0.03298236,\n",
       "       0.03298236, 0.03298236, 0.03298236, 0.03298236, 0.03298236,\n",
       "       0.03298236, 0.03298236, 0.03298236, 0.03298236, 0.03298236,\n",
       "       0.03298236, 0.03298236, 0.03298236, 0.03298236, 0.03298236,\n",
       "       0.03298236, 0.03298236, 0.03298236, 0.03298236, 0.03298236,\n",
       "       0.03298236, 0.03298236, 0.03298236, 0.03298236, 0.03298236,\n",
       "       0.03298236, 0.03298236, 0.03298236, 0.03298236, 0.03298236,\n",
       "       0.03298236, 0.03298236, 0.03298236, 0.03298236, 0.03298236,\n",
       "       0.03298236, 0.03298236, 0.03298236, 0.03298236, 0.03298236,\n",
       "       0.03298236, 0.03298236, 0.03298236, 0.03298236, 0.03298236,\n",
       "       0.03298236, 0.03298236, 0.03298236, 0.03298236, 0.03298236,\n",
       "       0.03298236, 0.03298236, 0.03298236, 0.03298236, 0.03298236,\n",
       "       0.03298236, 0.03298236, 0.03298236, 0.03298236, 0.03298236,\n",
       "       0.03298236, 0.03298236, 0.03298236, 0.03298236, 0.03298236,\n",
       "       0.03298236, 0.03298236, 0.03298236, 0.03298236, 0.03298236,\n",
       "       0.03298236, 0.03298236, 0.03298236, 0.03298236, 0.03298236,\n",
       "       0.03298236, 0.03298236, 0.03298236, 0.03298236, 0.03298236,\n",
       "       0.03298236, 0.03298236, 0.03298236, 0.03298236, 0.03298236,\n",
       "       0.03298236, 0.03298236, 0.03298236, 0.03298236, 0.03298236,\n",
       "       0.03298236, 0.03298236, 0.03298236, 0.03298236, 0.03298236,\n",
       "       0.03298236, 0.03298236, 0.03298236, 0.03298236, 0.03298236,\n",
       "       0.03298236, 0.03298236, 0.03298236, 0.03298236, 0.03298236,\n",
       "       0.03298236, 0.03298236, 0.03298236, 0.03298236, 0.03298236,\n",
       "       0.03298236, 0.03298236, 0.03298236, 0.03298236, 0.03298236,\n",
       "       0.03298236, 0.03298236, 0.03298236, 0.03298236, 0.03298236,\n",
       "       0.03298236, 0.03298236, 0.03298236, 0.03298236, 0.03298236,\n",
       "       0.03298236, 0.03298236, 0.03298236, 0.03298236, 0.03298236,\n",
       "       0.03298236, 0.03298236, 0.03298236, 0.03298236, 0.03298236,\n",
       "       0.03298236, 0.03298236, 0.03298236, 0.03298236, 0.03298236,\n",
       "       0.03298236, 0.03298236, 0.03298236, 0.03298236, 0.03298236,\n",
       "       0.03298236, 0.03298236, 0.03298236, 0.03298236, 0.03298236,\n",
       "       0.03298236, 0.03298236, 0.03298236, 0.03298236, 0.03298236,\n",
       "       0.03298236, 0.03298236, 0.03298236, 0.03298236, 0.03298236,\n",
       "       0.03298236, 0.03298236, 0.03298236, 0.03298236, 0.03298236,\n",
       "       0.03298236, 0.03298236, 0.03298236, 0.03298236, 0.03298236,\n",
       "       0.03298236, 0.03298236, 0.03298236, 0.03298236, 0.03298236,\n",
       "       0.03298236, 0.03298236, 0.03298236, 0.03298236, 0.03298236,\n",
       "       0.03298236, 0.03298236, 0.03298236, 0.03298236, 0.03298236,\n",
       "       0.03298236, 0.03298236, 0.03298236, 0.03298236, 0.03298236,\n",
       "       0.03298236, 0.03298236, 0.03298236, 0.03298236, 0.03298236,\n",
       "       0.03298236, 0.03298236, 0.03298236, 0.03298236, 0.03298236,\n",
       "       0.03298236, 0.03298236, 0.03298236, 0.03298236, 0.03298236,\n",
       "       0.03298236, 0.03298236, 0.03298236, 0.03298236, 0.03298236,\n",
       "       0.03298236, 0.03298236, 0.03298236, 0.03298236, 0.03298236,\n",
       "       0.03298236, 0.03298236, 0.03298236, 0.03298236, 0.03298236,\n",
       "       0.03298236, 0.03298236, 0.03298236, 0.03298236, 0.03298236,\n",
       "       0.03298236, 0.03298236, 0.03298236, 0.03298236, 0.03298236,\n",
       "       0.03298236, 0.03298236, 0.03298236, 0.03298236, 0.03298236,\n",
       "       0.03298236, 0.03298236, 0.03298236, 0.03298236, 0.03298236,\n",
       "       0.03298236, 0.03298236, 0.03298236, 0.03298236, 0.03298236,\n",
       "       0.03298236, 0.03298236, 0.03298236, 0.03298236, 0.03298236,\n",
       "       0.03298236, 0.03298236, 0.03298236, 0.03298236, 0.03298236,\n",
       "       0.03298236, 0.03298236, 0.03298236, 0.03298236, 0.03298236,\n",
       "       0.03298236, 0.03298236, 0.03298236, 0.03298236, 0.03298236,\n",
       "       0.03298236, 0.03298236, 0.03298236, 0.03298236, 0.03298236,\n",
       "       0.03298236, 0.03298236, 0.03298236, 0.03298236, 0.03298236,\n",
       "       0.03298236, 0.03298236, 0.03298236, 0.03298236, 0.03298236,\n",
       "       0.03298236, 0.03298236, 0.03298236, 0.03298236, 0.03298236,\n",
       "       0.03298236, 0.03298236, 0.03298236, 0.03298236, 0.03298236,\n",
       "       0.03298236, 0.03298236, 0.03298236, 0.03298236, 0.03298236,\n",
       "       0.03298236, 0.03298236, 0.03298236, 0.03298236, 0.03298236,\n",
       "       0.03298236, 0.03298236, 0.03298236, 0.03298236, 0.03298236,\n",
       "       0.03298236, 0.03298236, 0.03298236, 0.03298236, 0.03298236,\n",
       "       0.03298236, 0.03298236, 0.03298236, 0.03298236, 0.03298236,\n",
       "       0.03298236, 0.03298236, 0.03298236, 0.03298236, 0.03298236,\n",
       "       0.03298236, 0.03298236, 0.03298236, 0.03298236, 0.03298236,\n",
       "       0.03298236, 0.03298236, 0.03298236, 0.03298236, 0.03298236,\n",
       "       0.03298236, 0.03298236, 0.03298236, 0.03298236, 0.03298236,\n",
       "       0.03298236, 0.03298236, 0.03298236, 0.03298236, 0.03298236,\n",
       "       0.03298236, 0.03298236, 0.03298236, 0.03298236, 0.03298236,\n",
       "       0.03298236, 0.03298236, 0.03298236, 0.03298236, 0.03298236,\n",
       "       0.03298236, 0.03298236, 0.03298236, 0.03298236, 0.03298236,\n",
       "       0.03298236, 0.03298236, 0.03298236, 0.03298236, 0.03298236,\n",
       "       0.03298236, 0.03298236, 0.03298236, 0.03298236, 0.03298236,\n",
       "       0.03298236, 0.03298236, 0.03298236, 0.03298236, 0.03298236,\n",
       "       0.03298236, 0.03298236, 0.03298236, 0.03298236, 0.03298236,\n",
       "       0.03298236, 0.03298236, 0.03298236, 0.03298236, 0.03298236,\n",
       "       0.03298236, 0.03298236, 0.03298236, 0.03298236, 0.03298236,\n",
       "       0.03298236, 0.03298236, 0.03298236, 0.03298236, 0.03298236,\n",
       "       0.03298236, 0.03298236, 0.03298236, 0.03298236, 0.03298236,\n",
       "       0.03298236, 0.03298236, 0.03298236, 0.03298236, 0.03298236,\n",
       "       0.03298236, 0.03298236, 0.03298236, 0.03298236, 0.03298236,\n",
       "       0.03298236, 0.03298236, 0.03298236, 0.03298236, 0.03298236,\n",
       "       0.03298236, 0.03298236, 0.03298236, 0.03298236, 0.03298236,\n",
       "       0.03298236, 0.03298236, 0.03298236, 0.03298236, 0.03298236,\n",
       "       0.03298236, 0.03298236, 0.03298236, 0.03298236, 0.03298236,\n",
       "       0.03298236, 0.03298236, 0.03298236, 0.03298236, 0.03298236,\n",
       "       0.03298236, 0.03298236, 0.03298236, 0.03298236, 0.03298236,\n",
       "       0.03298236, 0.03298236, 0.03298236, 0.03298236, 0.03298236,\n",
       "       0.03298236, 0.03298236, 0.03298236, 0.03298236, 0.03298236,\n",
       "       0.03298236, 0.03298236, 0.03298236, 0.03298236, 0.03298236,\n",
       "       0.03298236, 0.03298236, 0.03298236, 0.03298236, 0.03298236,\n",
       "       0.03298236, 0.03298236, 0.03298236, 0.03298236, 0.03298236,\n",
       "       0.03298236, 0.03298236, 0.03298236, 0.03298236, 0.03298236,\n",
       "       0.03298236, 0.03298236, 0.03298236, 0.03298236, 0.03298236,\n",
       "       0.03298236, 0.03298236, 0.03298236, 0.03298236, 0.03298236,\n",
       "       0.03298236, 0.03298236, 0.03298236, 0.03298236, 0.03298236,\n",
       "       0.03298236, 0.03298236, 0.03298236, 0.03298236, 0.03298236,\n",
       "       0.03298236, 0.03298236, 0.03298236, 0.03298236, 0.03298236,\n",
       "       0.03298236, 0.03298236, 0.03298236, 0.03298236, 0.03298236,\n",
       "       0.03298236, 0.03298236, 0.03298236, 0.03298236, 0.03298236,\n",
       "       0.03298236, 0.03298236, 0.03298236, 0.03298236, 0.03298236,\n",
       "       0.03298236, 0.03298236, 0.03298236, 0.03298236, 0.03298236,\n",
       "       0.03298236, 0.03298236, 0.03298236, 0.03298236, 0.03298236,\n",
       "       0.03298236, 0.03298236, 0.03298236, 0.03298236, 0.03298236,\n",
       "       0.03298236, 0.03298236, 0.03298236, 0.03298236, 0.03298236,\n",
       "       0.03298236, 0.03298236, 0.03298236, 0.03298236, 0.03298236,\n",
       "       0.03298236, 0.03298236, 0.03298236, 0.03298236, 0.03298236,\n",
       "       0.03298236, 0.03298236, 0.03298236, 0.03298236, 0.03298236,\n",
       "       0.03298236, 0.03298236, 0.03298236, 0.03298236, 0.03298236,\n",
       "       0.03298236, 0.03298236, 0.03298236, 0.03298236, 0.03298236,\n",
       "       0.03298236, 0.03298236, 0.03298236, 0.03298236, 0.03298236,\n",
       "       0.03298236, 0.03298236, 0.03298236, 0.03298236, 0.03298236,\n",
       "       0.03298236, 0.03298236, 0.03298236, 0.03298236, 0.03298236,\n",
       "       0.03298236, 0.03298236, 0.03298236, 0.03298236, 0.03298236,\n",
       "       0.03298236, 0.03298236, 0.03298236, 0.03298236, 0.03298236,\n",
       "       0.03298236, 0.03298236, 0.03298236, 0.03298236, 0.03298236,\n",
       "       0.03298236, 0.03298236, 0.03298236, 0.03298236, 0.03298236,\n",
       "       0.03298236, 0.03298236, 0.03298236, 0.03298236, 0.03298236,\n",
       "       0.03298236, 0.03298236, 0.03298236, 0.03298236, 0.03298236,\n",
       "       0.03298236, 0.03298236, 0.03298236, 0.03298236, 0.03298236,\n",
       "       0.03298236, 0.03298236, 0.03298236, 0.03298236, 0.03298236,\n",
       "       0.03298236, 0.03298236, 0.03298236, 0.03298236, 0.03298236,\n",
       "       0.03298236, 0.03298236, 0.03298236, 0.03298236, 0.03298236,\n",
       "       0.03298236, 0.03298236, 0.03298236, 0.03298236, 0.03298236,\n",
       "       0.03298236, 0.03298236, 0.03298236, 0.03298236, 0.03298236,\n",
       "       0.03298236, 0.03298236, 0.03298236, 0.03298236, 0.03298236,\n",
       "       0.03298236, 0.03298236, 0.03298236, 0.03298236, 0.03298236,\n",
       "       0.03298236, 0.03298236, 0.03298236, 0.03298236, 0.03298236,\n",
       "       0.03298236, 0.03298236, 0.03298236, 0.03298236, 0.03298236,\n",
       "       0.03298236, 0.03298236, 0.03298236, 0.03298236, 0.03298236,\n",
       "       0.03298236, 0.03298236, 0.03298236, 0.03298236, 0.03298236,\n",
       "       0.03298236, 0.03298236, 0.03298236, 0.03298236, 0.03298236,\n",
       "       0.03298236, 0.03298236, 0.03298236, 0.03298236, 0.03298236,\n",
       "       0.03298236, 0.03298236, 0.03298236, 0.03298236, 0.03298236,\n",
       "       0.03298236, 0.03298236, 0.03298236, 0.03298236, 0.03298236,\n",
       "       0.03298236, 0.03298236, 0.03298236, 0.03298236, 0.03298236,\n",
       "       0.03298236, 0.03298236, 0.03298236, 0.03298236, 0.03298236,\n",
       "       0.03298236, 0.03298236, 0.03298236, 0.03298236, 0.03298236,\n",
       "       0.03298236, 0.03298236, 0.03298236, 0.03298236, 0.03298236,\n",
       "       0.03298236, 0.03298236, 0.03298236, 0.03298236, 0.03298236,\n",
       "       0.03298236, 0.03298236, 0.03298236, 0.03298236, 0.03298236,\n",
       "       0.03298236, 0.03298236, 0.03298236, 0.03298236, 0.03298236,\n",
       "       0.03298236, 0.03298236, 0.03298236, 0.03298236, 0.03298236,\n",
       "       0.03298236, 0.03298236, 0.03298236, 0.03298236, 0.03298236,\n",
       "       0.03298236, 0.03298236, 0.03298236, 0.03298236, 0.03298236,\n",
       "       0.03298236, 0.03298236, 0.03298236, 0.03298236, 0.03298236,\n",
       "       0.03298236, 0.03298236, 0.03298236, 0.03298236, 0.03298236,\n",
       "       0.03298236, 0.03298236, 0.03298236, 0.03298236, 0.03298236,\n",
       "       0.03298236, 0.03298236, 0.03298236, 0.03298236, 0.03298236,\n",
       "       0.03298236, 0.03298236, 0.03298236, 0.03298236, 0.03298236,\n",
       "       0.03298236, 0.03298236, 0.03298236, 0.03298236, 0.03298236,\n",
       "       0.03298236, 0.03298236, 0.03298236, 0.03298236, 0.03298236,\n",
       "       0.03298236, 0.03298236, 0.03298236, 0.03298236, 0.03298236,\n",
       "       0.03298236, 0.03298236, 0.03298236, 0.03298236, 0.03298236,\n",
       "       0.03298236, 0.03298236, 0.03298236, 0.03298236, 0.03298236,\n",
       "       0.03298236, 0.03298236, 0.03298236, 0.03298236, 0.03298236,\n",
       "       0.03298236, 0.03298236, 0.03298236, 0.03298236, 0.03298236,\n",
       "       0.03298236, 0.03298236, 0.03298236, 0.03298236, 0.03298236,\n",
       "       0.03298236, 0.03298236, 0.03298236, 0.03298236, 0.03298236,\n",
       "       0.03298236, 0.03298236, 0.03298236, 0.03298236, 0.03298236,\n",
       "       0.03298236, 0.03298236, 0.03298236, 0.03298236, 0.03298236,\n",
       "       0.03298236, 0.03298236, 0.03298236, 0.03298236, 0.03298236,\n",
       "       0.03298236, 0.03298236, 0.03298236, 0.03298236, 0.03298236,\n",
       "       0.03298236, 0.03298236, 0.03298236, 0.03298236, 0.03298236,\n",
       "       0.03298236, 0.03298236, 0.03298236, 0.03298236, 0.03298236,\n",
       "       0.03298236, 0.03298236, 0.03298236, 0.03298236, 0.03298236,\n",
       "       0.03298236, 0.03298236, 0.03298236, 0.03298236, 0.03298236,\n",
       "       0.03298236, 0.03298236, 0.03298236, 0.03298236, 0.03298236,\n",
       "       0.03298236, 0.03298236, 0.03298236, 0.03298236, 0.03298236,\n",
       "       0.03298236, 0.03298236, 0.03298236, 0.03298236, 0.03298236])"
      ]
     },
     "execution_count": 23,
     "metadata": {},
     "output_type": "execute_result"
    }
   ],
   "source": [
    "NN_p2 = Neural_Network()\n",
    "            \n",
    "costs_p2 = []\n",
    "\n",
    "for i in np.arange(0,1000):\n",
    "    cost_i_p2= NN_p2.costFunctionRelu(X, y)\n",
    "    costs_p2= np.append(costs_p2,cost_i_p2)\n",
    "    \n",
    "    dJdW1_relu, dJdW2_relu = NN_p2.costFunctionPrimeRelu(X, y)\n",
    "    \n",
    "    NN_p2.W1 = NN_p2.W1 - scalar*dJdW1_relu\n",
    "    NN_p2.W2 = NN_p2.W2 - scalar*dJdW2_relu\n",
    "    \n",
    "costs_p2"
   ]
  },
  {
   "cell_type": "code",
   "execution_count": 24,
   "metadata": {},
   "outputs": [
    {
     "data": {
      "text/plain": [
       "<matplotlib.legend.Legend at 0x7f9cd19b9580>"
      ]
     },
     "execution_count": 24,
     "metadata": {},
     "output_type": "execute_result"
    },
    {
     "data": {
      "image/png": "[encoded data removed]",
      "text/plain": [
       "<Figure size 432x288 with 1 Axes>"
      ]
     },
     "metadata": {
      "needs_background": "light"
     },
     "output_type": "display_data"
    }
   ],
   "source": [
    "import matplotlib.pyplot as plt\n",
    "import numpy as np\n",
    "import math\n",
    "\n",
    "\n",
    "X = np.arange(0, len(costs_p1))\n",
    "\n",
    "sigmoid_1 = costs_p1\n",
    "relu_2 = costs_p2\n",
    "\n",
    "#figure, axis = plt.subplots(1, 2)\n",
    "\n",
    "plt.plot(X, sigmoid_1, color='r', label='sigmoid')\n",
    "plt.plot(X, relu_2, color='g', label='reLU')\n",
    "  \n",
    "# Naming the x-axis, y-axis and the whole graph\n",
    "plt.xlabel(\"Iteration\")\n",
    "plt.ylabel(\"Cost\")\n",
    "plt.title(\"Comparing Performance of Sigmoid and ReLU Activation Functions, Cost vs. Iteration\")\n",
    "  \n",
    "# Adding legend, which helps us recognize the curve according to it's color\n",
    "plt.legend()\n"
   ]
  },
  {
   "cell_type": "markdown",
   "metadata": {},
   "source": [
    "### Add a new hidden layer and compare with the previous network. "
   ]
  },
  {
   "cell_type": "code",
   "execution_count": 25,
   "metadata": {},
   "outputs": [
    {
     "data": {
      "text/plain": [
       "'\\nclass Neural_Network(object):\\n    def __init__(self):\\n        #Define Parameters\\n        self.inputLayerSize = 2\\n        self.outputLayerSize=1\\n        self.hiddenLayerSize = 3\\n        \\n        np.random.seed(7)\\n        #Define Weights\\n        self.W1=np.random.rand(self.inputLayerSize,self.hiddenLayerSize)\\n        self.W2=np.random.rand(self.hiddenLayerSize,self.outputLayerSize)\\n        \\n\\n    def forward(self,X):\\n        #Propagate inputs through network\\n        self.z2 = np.dot(X,self.W1)\\n        self.a2 = self.sigmoid(self.z2)\\n        self.z3 = np.dot(self.a2,self.W2)\\n        \\n        self.z4 = np.dot(X, self.W2)\\n        self.a4 = self.sigmoid(self.z4)\\n        self.z5 = np.dot(self.a4, self.W3)\\n        \\n        yHat = self.sigmoid(self.z5)\\n        return yHat\\n    \\n    def sigmoid(self, z):\\n        #Apply Sigmoid Activation Function\\n        return 1/(1+np.exp(-z))\\n    \\n    def sigmoidPrime(self,z):\\n        #Derivative of Sigmoid Function\\n        return np.exp(-z)/((1+np.exp(-z))**2)\\n    \\n    def relu(self, z):\\n        return np.maximum(0, z)\\n    \\n    def reluPrime(self,z):\\n        return 1 * (z > 0)\\n\\n    def costFunction(self, X, y):\\n        #Compute Cost Function with weights already stored in class\\n        self.yHat=self.forward(X)\\n        J=0.5*sum((y-self.yHat)**2)\\n        return J\\n    \\n    def costFunctionPrime(self, X, y):\\n        #Compute derivatives with respect to W1 and W2\\n        self.yHat=self.forward(X)\\n        \\n        delta3 = np.multiply(-(y-self.yHat),self.sigmoidPrime(self.z3))\\n        dJdW2=np.dot(self.a2.T,delta3)\\n        \\n        delta2=np.dot(delta3,self.W2.T)*self.sigmoidPrime(self.z2)\\n        dJdW1=np.dot(X.T,delta2)\\n        return dJdW1, dJdW2\\n\\n    def forwardRelu(self, X):\\n        #Propagate inputs through network\\n        self.z2_relu = np.dot(X, self.W1)\\n        self.a2_relu = self.relu(self.z2_relu)\\n        self.z3_relu = np.dot(self.a2_relu,self.W2)\\n        \\n        self.z4_relu = np.dot(X, self.W2)\\n        self.a4_relu = self.relu(self.z4_relu)\\n        self.z5_relu = np.dot(self.a4_relu, self.W3)\\n        \\n        yHat_relu = self.relu(self.z5_relu)\\n        return yHat_relu\\n    \\n\\n    def costFunctionRelu(self, X, y):\\n        #Compute Cost Function with weights already stored in class\\n        self.yHat_relu=self.forwardRelu(X)\\n        J_relu= 0.5*sum((y - self.yHat_relu)**2)\\n        return J_relu\\n    \\n    def costFunctionPrimeRelu(self, X, y):\\n        #Compute derivatives with respect to W1 and W2\\n        self.yHat_relu=self.forwardRelu(X)\\n        \\n        delta4_relu = np.multiply(-(y-self.yHat_relu),self.reluPrime(self.z5_relu))\\n        dJdW3_relu=np.dot(self.a4_relu.T, delta4_relu)\\n        \\n        delta3_relu = np.dot(delta4_relu,self.W3.T)*self.reluPrime(self.z4_relu)\\n        dJdW2_relu=np.dot(self.a3_relu.T, delta3_relu)\\n        \\n        delta2_relu=np.dot(delta3_relu,self.W2.T)*self.reluPrime(self.z3_relu)\\n        dJdW1_relu=np.dot(X.T, delta2_relu)\\n        \\n        return dJdW1_relu, dJdW2_relu, dJdW3_relu\\n'"
      ]
     },
     "execution_count": 25,
     "metadata": {},
     "output_type": "execute_result"
    }
   ],
   "source": [
    "'''\n",
    "class Neural_Network(object):\n",
    "    def __init__(self):\n",
    "        #Define Parameters\n",
    "        self.inputLayerSize = 2\n",
    "        self.outputLayerSize=1\n",
    "        self.hiddenLayerSize = 3\n",
    "        \n",
    "        np.random.seed(7)\n",
    "        #Define Weights\n",
    "        self.W1=np.random.rand(self.inputLayerSize,self.hiddenLayerSize)\n",
    "        self.W2=np.random.rand(self.hiddenLayerSize,self.outputLayerSize)\n",
    "        \n",
    "\n",
    "    def forward(self,X):\n",
    "        #Propagate inputs through network\n",
    "        self.z2 = np.dot(X,self.W1)\n",
    "        self.a2 = self.sigmoid(self.z2)\n",
    "        self.z3 = np.dot(self.a2,self.W2)\n",
    "        \n",
    "        self.z4 = np.dot(X, self.W2)\n",
    "        self.a4 = self.sigmoid(self.z4)\n",
    "        self.z5 = np.dot(self.a4, self.W3)\n",
    "        \n",
    "        yHat = self.sigmoid(self.z5)\n",
    "        return yHat\n",
    "    \n",
    "    def sigmoid(self, z):\n",
    "        #Apply Sigmoid Activation Function\n",
    "        return 1/(1+np.exp(-z))\n",
    "    \n",
    "    def sigmoidPrime(self,z):\n",
    "        #Derivative of Sigmoid Function\n",
    "        return np.exp(-z)/((1+np.exp(-z))**2)\n",
    "    \n",
    "    def relu(self, z):\n",
    "        return np.maximum(0, z)\n",
    "    \n",
    "    def reluPrime(self,z):\n",
    "        return 1 * (z > 0)\n",
    "\n",
    "    def costFunction(self, X, y):\n",
    "        #Compute Cost Function with weights already stored in class\n",
    "        self.yHat=self.forward(X)\n",
    "        J=0.5*sum((y-self.yHat)**2)\n",
    "        return J\n",
    "    \n",
    "    def costFunctionPrime(self, X, y):\n",
    "        #Compute derivatives with respect to W1 and W2\n",
    "        self.yHat=self.forward(X)\n",
    "        \n",
    "        delta3 = np.multiply(-(y-self.yHat),self.sigmoidPrime(self.z3))\n",
    "        dJdW2=np.dot(self.a2.T,delta3)\n",
    "        \n",
    "        delta2=np.dot(delta3,self.W2.T)*self.sigmoidPrime(self.z2)\n",
    "        dJdW1=np.dot(X.T,delta2)\n",
    "        return dJdW1, dJdW2\n",
    "\n",
    "    def forwardRelu(self, X):\n",
    "        #Propagate inputs through network\n",
    "        self.z2_relu = np.dot(X, self.W1)\n",
    "        self.a2_relu = self.relu(self.z2_relu)\n",
    "        self.z3_relu = np.dot(self.a2_relu,self.W2)\n",
    "        \n",
    "        self.z4_relu = np.dot(X, self.W2)\n",
    "        self.a4_relu = self.relu(self.z4_relu)\n",
    "        self.z5_relu = np.dot(self.a4_relu, self.W3)\n",
    "        \n",
    "        yHat_relu = self.relu(self.z5_relu)\n",
    "        return yHat_relu\n",
    "    \n",
    "\n",
    "    def costFunctionRelu(self, X, y):\n",
    "        #Compute Cost Function with weights already stored in class\n",
    "        self.yHat_relu=self.forwardRelu(X)\n",
    "        J_relu= 0.5*sum((y - self.yHat_relu)**2)\n",
    "        return J_relu\n",
    "    \n",
    "    def costFunctionPrimeRelu(self, X, y):\n",
    "        #Compute derivatives with respect to W1 and W2\n",
    "        self.yHat_relu=self.forwardRelu(X)\n",
    "        \n",
    "        delta4_relu = np.multiply(-(y-self.yHat_relu),self.reluPrime(self.z5_relu))\n",
    "        dJdW3_relu=np.dot(self.a4_relu.T, delta4_relu)\n",
    "        \n",
    "        delta3_relu = np.dot(delta4_relu,self.W3.T)*self.reluPrime(self.z4_relu)\n",
    "        dJdW2_relu=np.dot(self.a3_relu.T, delta3_relu)\n",
    "        \n",
    "        delta2_relu=np.dot(delta3_relu,self.W2.T)*self.reluPrime(self.z3_relu)\n",
    "        dJdW1_relu=np.dot(X.T, delta2_relu)\n",
    "        \n",
    "        return dJdW1_relu, dJdW2_relu, dJdW3_relu\n",
    "'''"
   ]
  },
  {
   "cell_type": "code",
   "execution_count": 26,
   "metadata": {},
   "outputs": [],
   "source": [
    "import numpy as np\n",
    "%matplotlib inline\n",
    "import matplotlib.pyplot as plt\n",
    "\n",
    "### V2 (Hasan)\n",
    "class Neural_Network(object):\n",
    "    def __init__(self):\n",
    "        #Define Parameters\n",
    "        self.inputLayerSize = 2\n",
    "        self.hiddenLayerSize_1 = 8\n",
    "        self.hiddenLayerSize_2 = 4\n",
    "        self.outputLayerSize=1\n",
    "        \n",
    "        np.random.seed(7)\n",
    "        #Define Weights\n",
    "        self.W1=np.random.rand(self.inputLayerSize,self.hiddenLayerSize_1)\n",
    "        self.W2=np.random.rand(self.hiddenLayerSize_1,self.hiddenLayerSize_2)\n",
    "        self.W3=np.random.rand(self.hiddenLayerSize_2, self.outputLayerSize)\n",
    "        \n",
    "   \n",
    "    def forward(self,X):\n",
    "        #Propagate inputs through network\n",
    "        self.z1 = np.dot(X, self.W1)\n",
    "        self.a1 = self.relu(self.z1)\n",
    "        self.z2 = np.dot(self.a1, self.W2)\n",
    "        self.a2 = self.relu(self.z2)\n",
    "        self.z3 = np.dot(self.a2, self.W3)\n",
    "        yHat = self.relu(self.z3)\n",
    "        return yHat\n",
    "    \n",
    "    def sigmoid(self, z):\n",
    "        #Apply Sigmoid Activation Function\n",
    "        return 1/(1+np.exp(-z))\n",
    "    \n",
    "    def sigmoidPrime(self,z):\n",
    "        #Derivative of Sigmoid Function\n",
    "        return np.exp(-z)/((1+np.exp(-z))**2)\n",
    "    \n",
    "    def relu(self, z):\n",
    "        return np.maximum(0, z)\n",
    "    \n",
    "    def reluPrime(self,z):\n",
    "        return 1 * (z > 0)\n",
    "\n",
    "    def costFunction(self, X, y):\n",
    "        #Compute Cost Function with weights already stored in class\n",
    "        self.yHat=self.forward(X)\n",
    "        J=0.5*sum((y-self.yHat)**2)\n",
    "        return J\n",
    "    \n",
    "    def costFunctionPrime(self, X, y):\n",
    "        #Compute derivatives with respect to W1, W2, and W3\n",
    "        '''\n",
    "        self.yHat=self.forward(X)\n",
    "        \n",
    "        delta3 = np.multiply(-(y-self.yHat),self.reluPrime(self.z3))\n",
    "        dJdW2=np.dot(self.a2.T,delta3)\n",
    "        \n",
    "        delta2=np.dot(delta3,self.W2.T)*self.reluPrime(self.z2)\n",
    "        dJdW1=np.dot(X.T,delta2)\n",
    "        ---\n",
    "        '''\n",
    "        self.yHat = self.forward(X)\n",
    "        \n",
    "        delta3 = np.multiply(-(y-self.yHat), self.reluPrime(self.z3))\n",
    "        dJdW3 = np.dot(self.a2.T, delta3)\n",
    "        \n",
    "        delta2 = np.dot(delta3, self.W3.T) * self.reluPrime(self.z2)\n",
    "        dJdW2 = np.dot(self.a1.T, delta2)\n",
    "        \n",
    "        delta1 = np.dot(delta2, self.W2.T) * self.reluPrime(self.z1)\n",
    "        dJdW1 = np.dot(X.T, delta1)\n",
    "       \n",
    "        return dJdW1, dJdW2, dJdW3\n"
   ]
  },
  {
   "cell_type": "code",
   "execution_count": 27,
   "metadata": {},
   "outputs": [],
   "source": [
    "X=np.array(([3,5],[5,1],[10,1]),dtype=float)\n",
    "y=np.array(([75],[80],[93]),dtype=float)"
   ]
  },
  {
   "cell_type": "code",
   "execution_count": 28,
   "metadata": {},
   "outputs": [
    {
     "data": {
      "text/plain": [
       "array([4.14957681e+03, 9.08116178e+18, 1.03370000e+04, 1.03370000e+04,\n",
       "       1.03370000e+04, 1.03370000e+04, 1.03370000e+04, 1.03370000e+04,\n",
       "       1.03370000e+04, 1.03370000e+04, 1.03370000e+04, 1.03370000e+04,\n",
       "       1.03370000e+04, 1.03370000e+04, 1.03370000e+04, 1.03370000e+04,\n",
       "       1.03370000e+04, 1.03370000e+04, 1.03370000e+04, 1.03370000e+04,\n",
       "       1.03370000e+04, 1.03370000e+04, 1.03370000e+04, 1.03370000e+04,\n",
       "       1.03370000e+04, 1.03370000e+04, 1.03370000e+04, 1.03370000e+04,\n",
       "       1.03370000e+04, 1.03370000e+04, 1.03370000e+04, 1.03370000e+04,\n",
       "       1.03370000e+04, 1.03370000e+04, 1.03370000e+04, 1.03370000e+04,\n",
       "       1.03370000e+04, 1.03370000e+04, 1.03370000e+04, 1.03370000e+04,\n",
       "       1.03370000e+04, 1.03370000e+04, 1.03370000e+04, 1.03370000e+04,\n",
       "       1.03370000e+04, 1.03370000e+04, 1.03370000e+04, 1.03370000e+04,\n",
       "       1.03370000e+04, 1.03370000e+04, 1.03370000e+04, 1.03370000e+04,\n",
       "       1.03370000e+04, 1.03370000e+04, 1.03370000e+04, 1.03370000e+04,\n",
       "       1.03370000e+04, 1.03370000e+04, 1.03370000e+04, 1.03370000e+04,\n",
       "       1.03370000e+04, 1.03370000e+04, 1.03370000e+04, 1.03370000e+04,\n",
       "       1.03370000e+04, 1.03370000e+04, 1.03370000e+04, 1.03370000e+04,\n",
       "       1.03370000e+04, 1.03370000e+04, 1.03370000e+04, 1.03370000e+04,\n",
       "       1.03370000e+04, 1.03370000e+04, 1.03370000e+04, 1.03370000e+04,\n",
       "       1.03370000e+04, 1.03370000e+04, 1.03370000e+04, 1.03370000e+04,\n",
       "       1.03370000e+04, 1.03370000e+04, 1.03370000e+04, 1.03370000e+04,\n",
       "       1.03370000e+04, 1.03370000e+04, 1.03370000e+04, 1.03370000e+04,\n",
       "       1.03370000e+04, 1.03370000e+04, 1.03370000e+04, 1.03370000e+04,\n",
       "       1.03370000e+04, 1.03370000e+04, 1.03370000e+04, 1.03370000e+04,\n",
       "       1.03370000e+04, 1.03370000e+04, 1.03370000e+04, 1.03370000e+04,\n",
       "       1.03370000e+04, 1.03370000e+04, 1.03370000e+04, 1.03370000e+04,\n",
       "       1.03370000e+04, 1.03370000e+04, 1.03370000e+04, 1.03370000e+04,\n",
       "       1.03370000e+04, 1.03370000e+04, 1.03370000e+04, 1.03370000e+04,\n",
       "       1.03370000e+04, 1.03370000e+04, 1.03370000e+04, 1.03370000e+04,\n",
       "       1.03370000e+04, 1.03370000e+04, 1.03370000e+04, 1.03370000e+04,\n",
       "       1.03370000e+04, 1.03370000e+04, 1.03370000e+04, 1.03370000e+04,\n",
       "       1.03370000e+04, 1.03370000e+04, 1.03370000e+04, 1.03370000e+04,\n",
       "       1.03370000e+04, 1.03370000e+04, 1.03370000e+04, 1.03370000e+04,\n",
       "       1.03370000e+04, 1.03370000e+04, 1.03370000e+04, 1.03370000e+04,\n",
       "       1.03370000e+04, 1.03370000e+04, 1.03370000e+04, 1.03370000e+04,\n",
       "       1.03370000e+04, 1.03370000e+04, 1.03370000e+04, 1.03370000e+04,\n",
       "       1.03370000e+04, 1.03370000e+04, 1.03370000e+04, 1.03370000e+04,\n",
       "       1.03370000e+04, 1.03370000e+04, 1.03370000e+04, 1.03370000e+04,\n",
       "       1.03370000e+04, 1.03370000e+04, 1.03370000e+04, 1.03370000e+04,\n",
       "       1.03370000e+04, 1.03370000e+04, 1.03370000e+04, 1.03370000e+04,\n",
       "       1.03370000e+04, 1.03370000e+04, 1.03370000e+04, 1.03370000e+04,\n",
       "       1.03370000e+04, 1.03370000e+04, 1.03370000e+04, 1.03370000e+04,\n",
       "       1.03370000e+04, 1.03370000e+04, 1.03370000e+04, 1.03370000e+04,\n",
       "       1.03370000e+04, 1.03370000e+04, 1.03370000e+04, 1.03370000e+04,\n",
       "       1.03370000e+04, 1.03370000e+04, 1.03370000e+04, 1.03370000e+04,\n",
       "       1.03370000e+04, 1.03370000e+04, 1.03370000e+04, 1.03370000e+04,\n",
       "       1.03370000e+04, 1.03370000e+04, 1.03370000e+04, 1.03370000e+04,\n",
       "       1.03370000e+04, 1.03370000e+04, 1.03370000e+04, 1.03370000e+04,\n",
       "       1.03370000e+04, 1.03370000e+04, 1.03370000e+04, 1.03370000e+04,\n",
       "       1.03370000e+04, 1.03370000e+04, 1.03370000e+04, 1.03370000e+04,\n",
       "       1.03370000e+04, 1.03370000e+04, 1.03370000e+04, 1.03370000e+04,\n",
       "       1.03370000e+04, 1.03370000e+04, 1.03370000e+04, 1.03370000e+04,\n",
       "       1.03370000e+04, 1.03370000e+04, 1.03370000e+04, 1.03370000e+04,\n",
       "       1.03370000e+04, 1.03370000e+04, 1.03370000e+04, 1.03370000e+04,\n",
       "       1.03370000e+04, 1.03370000e+04, 1.03370000e+04, 1.03370000e+04,\n",
       "       1.03370000e+04, 1.03370000e+04, 1.03370000e+04, 1.03370000e+04,\n",
       "       1.03370000e+04, 1.03370000e+04, 1.03370000e+04, 1.03370000e+04,\n",
       "       1.03370000e+04, 1.03370000e+04, 1.03370000e+04, 1.03370000e+04,\n",
       "       1.03370000e+04, 1.03370000e+04, 1.03370000e+04, 1.03370000e+04,\n",
       "       1.03370000e+04, 1.03370000e+04, 1.03370000e+04, 1.03370000e+04,\n",
       "       1.03370000e+04, 1.03370000e+04, 1.03370000e+04, 1.03370000e+04,\n",
       "       1.03370000e+04, 1.03370000e+04, 1.03370000e+04, 1.03370000e+04,\n",
       "       1.03370000e+04, 1.03370000e+04, 1.03370000e+04, 1.03370000e+04,\n",
       "       1.03370000e+04, 1.03370000e+04, 1.03370000e+04, 1.03370000e+04,\n",
       "       1.03370000e+04, 1.03370000e+04, 1.03370000e+04, 1.03370000e+04,\n",
       "       1.03370000e+04, 1.03370000e+04, 1.03370000e+04, 1.03370000e+04,\n",
       "       1.03370000e+04, 1.03370000e+04, 1.03370000e+04, 1.03370000e+04,\n",
       "       1.03370000e+04, 1.03370000e+04, 1.03370000e+04, 1.03370000e+04,\n",
       "       1.03370000e+04, 1.03370000e+04, 1.03370000e+04, 1.03370000e+04,\n",
       "       1.03370000e+04, 1.03370000e+04, 1.03370000e+04, 1.03370000e+04,\n",
       "       1.03370000e+04, 1.03370000e+04, 1.03370000e+04, 1.03370000e+04,\n",
       "       1.03370000e+04, 1.03370000e+04, 1.03370000e+04, 1.03370000e+04,\n",
       "       1.03370000e+04, 1.03370000e+04, 1.03370000e+04, 1.03370000e+04,\n",
       "       1.03370000e+04, 1.03370000e+04, 1.03370000e+04, 1.03370000e+04,\n",
       "       1.03370000e+04, 1.03370000e+04, 1.03370000e+04, 1.03370000e+04,\n",
       "       1.03370000e+04, 1.03370000e+04, 1.03370000e+04, 1.03370000e+04,\n",
       "       1.03370000e+04, 1.03370000e+04, 1.03370000e+04, 1.03370000e+04,\n",
       "       1.03370000e+04, 1.03370000e+04, 1.03370000e+04, 1.03370000e+04,\n",
       "       1.03370000e+04, 1.03370000e+04, 1.03370000e+04, 1.03370000e+04,\n",
       "       1.03370000e+04, 1.03370000e+04, 1.03370000e+04, 1.03370000e+04,\n",
       "       1.03370000e+04, 1.03370000e+04, 1.03370000e+04, 1.03370000e+04,\n",
       "       1.03370000e+04, 1.03370000e+04, 1.03370000e+04, 1.03370000e+04,\n",
       "       1.03370000e+04, 1.03370000e+04, 1.03370000e+04, 1.03370000e+04,\n",
       "       1.03370000e+04, 1.03370000e+04, 1.03370000e+04, 1.03370000e+04,\n",
       "       1.03370000e+04, 1.03370000e+04, 1.03370000e+04, 1.03370000e+04,\n",
       "       1.03370000e+04, 1.03370000e+04, 1.03370000e+04, 1.03370000e+04,\n",
       "       1.03370000e+04, 1.03370000e+04, 1.03370000e+04, 1.03370000e+04,\n",
       "       1.03370000e+04, 1.03370000e+04, 1.03370000e+04, 1.03370000e+04,\n",
       "       1.03370000e+04, 1.03370000e+04, 1.03370000e+04, 1.03370000e+04,\n",
       "       1.03370000e+04, 1.03370000e+04, 1.03370000e+04, 1.03370000e+04,\n",
       "       1.03370000e+04, 1.03370000e+04, 1.03370000e+04, 1.03370000e+04,\n",
       "       1.03370000e+04, 1.03370000e+04, 1.03370000e+04, 1.03370000e+04,\n",
       "       1.03370000e+04, 1.03370000e+04, 1.03370000e+04, 1.03370000e+04,\n",
       "       1.03370000e+04, 1.03370000e+04, 1.03370000e+04, 1.03370000e+04,\n",
       "       1.03370000e+04, 1.03370000e+04, 1.03370000e+04, 1.03370000e+04,\n",
       "       1.03370000e+04, 1.03370000e+04, 1.03370000e+04, 1.03370000e+04,\n",
       "       1.03370000e+04, 1.03370000e+04, 1.03370000e+04, 1.03370000e+04,\n",
       "       1.03370000e+04, 1.03370000e+04, 1.03370000e+04, 1.03370000e+04,\n",
       "       1.03370000e+04, 1.03370000e+04, 1.03370000e+04, 1.03370000e+04,\n",
       "       1.03370000e+04, 1.03370000e+04, 1.03370000e+04, 1.03370000e+04,\n",
       "       1.03370000e+04, 1.03370000e+04, 1.03370000e+04, 1.03370000e+04,\n",
       "       1.03370000e+04, 1.03370000e+04, 1.03370000e+04, 1.03370000e+04,\n",
       "       1.03370000e+04, 1.03370000e+04, 1.03370000e+04, 1.03370000e+04,\n",
       "       1.03370000e+04, 1.03370000e+04, 1.03370000e+04, 1.03370000e+04,\n",
       "       1.03370000e+04, 1.03370000e+04, 1.03370000e+04, 1.03370000e+04,\n",
       "       1.03370000e+04, 1.03370000e+04, 1.03370000e+04, 1.03370000e+04,\n",
       "       1.03370000e+04, 1.03370000e+04, 1.03370000e+04, 1.03370000e+04,\n",
       "       1.03370000e+04, 1.03370000e+04, 1.03370000e+04, 1.03370000e+04,\n",
       "       1.03370000e+04, 1.03370000e+04, 1.03370000e+04, 1.03370000e+04,\n",
       "       1.03370000e+04, 1.03370000e+04, 1.03370000e+04, 1.03370000e+04,\n",
       "       1.03370000e+04, 1.03370000e+04, 1.03370000e+04, 1.03370000e+04,\n",
       "       1.03370000e+04, 1.03370000e+04, 1.03370000e+04, 1.03370000e+04,\n",
       "       1.03370000e+04, 1.03370000e+04, 1.03370000e+04, 1.03370000e+04,\n",
       "       1.03370000e+04, 1.03370000e+04, 1.03370000e+04, 1.03370000e+04,\n",
       "       1.03370000e+04, 1.03370000e+04, 1.03370000e+04, 1.03370000e+04,\n",
       "       1.03370000e+04, 1.03370000e+04, 1.03370000e+04, 1.03370000e+04,\n",
       "       1.03370000e+04, 1.03370000e+04, 1.03370000e+04, 1.03370000e+04,\n",
       "       1.03370000e+04, 1.03370000e+04, 1.03370000e+04, 1.03370000e+04,\n",
       "       1.03370000e+04, 1.03370000e+04, 1.03370000e+04, 1.03370000e+04,\n",
       "       1.03370000e+04, 1.03370000e+04, 1.03370000e+04, 1.03370000e+04,\n",
       "       1.03370000e+04, 1.03370000e+04, 1.03370000e+04, 1.03370000e+04,\n",
       "       1.03370000e+04, 1.03370000e+04, 1.03370000e+04, 1.03370000e+04,\n",
       "       1.03370000e+04, 1.03370000e+04, 1.03370000e+04, 1.03370000e+04,\n",
       "       1.03370000e+04, 1.03370000e+04, 1.03370000e+04, 1.03370000e+04,\n",
       "       1.03370000e+04, 1.03370000e+04, 1.03370000e+04, 1.03370000e+04,\n",
       "       1.03370000e+04, 1.03370000e+04, 1.03370000e+04, 1.03370000e+04,\n",
       "       1.03370000e+04, 1.03370000e+04, 1.03370000e+04, 1.03370000e+04,\n",
       "       1.03370000e+04, 1.03370000e+04, 1.03370000e+04, 1.03370000e+04,\n",
       "       1.03370000e+04, 1.03370000e+04, 1.03370000e+04, 1.03370000e+04,\n",
       "       1.03370000e+04, 1.03370000e+04, 1.03370000e+04, 1.03370000e+04,\n",
       "       1.03370000e+04, 1.03370000e+04, 1.03370000e+04, 1.03370000e+04,\n",
       "       1.03370000e+04, 1.03370000e+04, 1.03370000e+04, 1.03370000e+04,\n",
       "       1.03370000e+04, 1.03370000e+04, 1.03370000e+04, 1.03370000e+04,\n",
       "       1.03370000e+04, 1.03370000e+04, 1.03370000e+04, 1.03370000e+04,\n",
       "       1.03370000e+04, 1.03370000e+04, 1.03370000e+04, 1.03370000e+04,\n",
       "       1.03370000e+04, 1.03370000e+04, 1.03370000e+04, 1.03370000e+04,\n",
       "       1.03370000e+04, 1.03370000e+04, 1.03370000e+04, 1.03370000e+04,\n",
       "       1.03370000e+04, 1.03370000e+04, 1.03370000e+04, 1.03370000e+04,\n",
       "       1.03370000e+04, 1.03370000e+04, 1.03370000e+04, 1.03370000e+04,\n",
       "       1.03370000e+04, 1.03370000e+04, 1.03370000e+04, 1.03370000e+04,\n",
       "       1.03370000e+04, 1.03370000e+04, 1.03370000e+04, 1.03370000e+04,\n",
       "       1.03370000e+04, 1.03370000e+04, 1.03370000e+04, 1.03370000e+04,\n",
       "       1.03370000e+04, 1.03370000e+04, 1.03370000e+04, 1.03370000e+04,\n",
       "       1.03370000e+04, 1.03370000e+04, 1.03370000e+04, 1.03370000e+04,\n",
       "       1.03370000e+04, 1.03370000e+04, 1.03370000e+04, 1.03370000e+04,\n",
       "       1.03370000e+04, 1.03370000e+04, 1.03370000e+04, 1.03370000e+04,\n",
       "       1.03370000e+04, 1.03370000e+04, 1.03370000e+04, 1.03370000e+04,\n",
       "       1.03370000e+04, 1.03370000e+04, 1.03370000e+04, 1.03370000e+04,\n",
       "       1.03370000e+04, 1.03370000e+04, 1.03370000e+04, 1.03370000e+04,\n",
       "       1.03370000e+04, 1.03370000e+04, 1.03370000e+04, 1.03370000e+04,\n",
       "       1.03370000e+04, 1.03370000e+04, 1.03370000e+04, 1.03370000e+04,\n",
       "       1.03370000e+04, 1.03370000e+04, 1.03370000e+04, 1.03370000e+04,\n",
       "       1.03370000e+04, 1.03370000e+04, 1.03370000e+04, 1.03370000e+04,\n",
       "       1.03370000e+04, 1.03370000e+04, 1.03370000e+04, 1.03370000e+04,\n",
       "       1.03370000e+04, 1.03370000e+04, 1.03370000e+04, 1.03370000e+04,\n",
       "       1.03370000e+04, 1.03370000e+04, 1.03370000e+04, 1.03370000e+04,\n",
       "       1.03370000e+04, 1.03370000e+04, 1.03370000e+04, 1.03370000e+04,\n",
       "       1.03370000e+04, 1.03370000e+04, 1.03370000e+04, 1.03370000e+04,\n",
       "       1.03370000e+04, 1.03370000e+04, 1.03370000e+04, 1.03370000e+04,\n",
       "       1.03370000e+04, 1.03370000e+04, 1.03370000e+04, 1.03370000e+04,\n",
       "       1.03370000e+04, 1.03370000e+04, 1.03370000e+04, 1.03370000e+04,\n",
       "       1.03370000e+04, 1.03370000e+04, 1.03370000e+04, 1.03370000e+04,\n",
       "       1.03370000e+04, 1.03370000e+04, 1.03370000e+04, 1.03370000e+04,\n",
       "       1.03370000e+04, 1.03370000e+04, 1.03370000e+04, 1.03370000e+04,\n",
       "       1.03370000e+04, 1.03370000e+04, 1.03370000e+04, 1.03370000e+04,\n",
       "       1.03370000e+04, 1.03370000e+04, 1.03370000e+04, 1.03370000e+04,\n",
       "       1.03370000e+04, 1.03370000e+04, 1.03370000e+04, 1.03370000e+04,\n",
       "       1.03370000e+04, 1.03370000e+04, 1.03370000e+04, 1.03370000e+04,\n",
       "       1.03370000e+04, 1.03370000e+04, 1.03370000e+04, 1.03370000e+04,\n",
       "       1.03370000e+04, 1.03370000e+04, 1.03370000e+04, 1.03370000e+04,\n",
       "       1.03370000e+04, 1.03370000e+04, 1.03370000e+04, 1.03370000e+04,\n",
       "       1.03370000e+04, 1.03370000e+04, 1.03370000e+04, 1.03370000e+04,\n",
       "       1.03370000e+04, 1.03370000e+04, 1.03370000e+04, 1.03370000e+04,\n",
       "       1.03370000e+04, 1.03370000e+04, 1.03370000e+04, 1.03370000e+04,\n",
       "       1.03370000e+04, 1.03370000e+04, 1.03370000e+04, 1.03370000e+04,\n",
       "       1.03370000e+04, 1.03370000e+04, 1.03370000e+04, 1.03370000e+04,\n",
       "       1.03370000e+04, 1.03370000e+04, 1.03370000e+04, 1.03370000e+04,\n",
       "       1.03370000e+04, 1.03370000e+04, 1.03370000e+04, 1.03370000e+04,\n",
       "       1.03370000e+04, 1.03370000e+04, 1.03370000e+04, 1.03370000e+04,\n",
       "       1.03370000e+04, 1.03370000e+04, 1.03370000e+04, 1.03370000e+04,\n",
       "       1.03370000e+04, 1.03370000e+04, 1.03370000e+04, 1.03370000e+04,\n",
       "       1.03370000e+04, 1.03370000e+04, 1.03370000e+04, 1.03370000e+04,\n",
       "       1.03370000e+04, 1.03370000e+04, 1.03370000e+04, 1.03370000e+04,\n",
       "       1.03370000e+04, 1.03370000e+04, 1.03370000e+04, 1.03370000e+04,\n",
       "       1.03370000e+04, 1.03370000e+04, 1.03370000e+04, 1.03370000e+04,\n",
       "       1.03370000e+04, 1.03370000e+04, 1.03370000e+04, 1.03370000e+04,\n",
       "       1.03370000e+04, 1.03370000e+04, 1.03370000e+04, 1.03370000e+04,\n",
       "       1.03370000e+04, 1.03370000e+04, 1.03370000e+04, 1.03370000e+04,\n",
       "       1.03370000e+04, 1.03370000e+04, 1.03370000e+04, 1.03370000e+04,\n",
       "       1.03370000e+04, 1.03370000e+04, 1.03370000e+04, 1.03370000e+04,\n",
       "       1.03370000e+04, 1.03370000e+04, 1.03370000e+04, 1.03370000e+04,\n",
       "       1.03370000e+04, 1.03370000e+04, 1.03370000e+04, 1.03370000e+04,\n",
       "       1.03370000e+04, 1.03370000e+04, 1.03370000e+04, 1.03370000e+04,\n",
       "       1.03370000e+04, 1.03370000e+04, 1.03370000e+04, 1.03370000e+04,\n",
       "       1.03370000e+04, 1.03370000e+04, 1.03370000e+04, 1.03370000e+04,\n",
       "       1.03370000e+04, 1.03370000e+04, 1.03370000e+04, 1.03370000e+04,\n",
       "       1.03370000e+04, 1.03370000e+04, 1.03370000e+04, 1.03370000e+04,\n",
       "       1.03370000e+04, 1.03370000e+04, 1.03370000e+04, 1.03370000e+04,\n",
       "       1.03370000e+04, 1.03370000e+04, 1.03370000e+04, 1.03370000e+04,\n",
       "       1.03370000e+04, 1.03370000e+04, 1.03370000e+04, 1.03370000e+04,\n",
       "       1.03370000e+04, 1.03370000e+04, 1.03370000e+04, 1.03370000e+04,\n",
       "       1.03370000e+04, 1.03370000e+04, 1.03370000e+04, 1.03370000e+04,\n",
       "       1.03370000e+04, 1.03370000e+04, 1.03370000e+04, 1.03370000e+04,\n",
       "       1.03370000e+04, 1.03370000e+04, 1.03370000e+04, 1.03370000e+04,\n",
       "       1.03370000e+04, 1.03370000e+04, 1.03370000e+04, 1.03370000e+04,\n",
       "       1.03370000e+04, 1.03370000e+04, 1.03370000e+04, 1.03370000e+04,\n",
       "       1.03370000e+04, 1.03370000e+04, 1.03370000e+04, 1.03370000e+04,\n",
       "       1.03370000e+04, 1.03370000e+04, 1.03370000e+04, 1.03370000e+04,\n",
       "       1.03370000e+04, 1.03370000e+04, 1.03370000e+04, 1.03370000e+04,\n",
       "       1.03370000e+04, 1.03370000e+04, 1.03370000e+04, 1.03370000e+04,\n",
       "       1.03370000e+04, 1.03370000e+04, 1.03370000e+04, 1.03370000e+04,\n",
       "       1.03370000e+04, 1.03370000e+04, 1.03370000e+04, 1.03370000e+04,\n",
       "       1.03370000e+04, 1.03370000e+04, 1.03370000e+04, 1.03370000e+04,\n",
       "       1.03370000e+04, 1.03370000e+04, 1.03370000e+04, 1.03370000e+04,\n",
       "       1.03370000e+04, 1.03370000e+04, 1.03370000e+04, 1.03370000e+04,\n",
       "       1.03370000e+04, 1.03370000e+04, 1.03370000e+04, 1.03370000e+04,\n",
       "       1.03370000e+04, 1.03370000e+04, 1.03370000e+04, 1.03370000e+04,\n",
       "       1.03370000e+04, 1.03370000e+04, 1.03370000e+04, 1.03370000e+04,\n",
       "       1.03370000e+04, 1.03370000e+04, 1.03370000e+04, 1.03370000e+04,\n",
       "       1.03370000e+04, 1.03370000e+04, 1.03370000e+04, 1.03370000e+04,\n",
       "       1.03370000e+04, 1.03370000e+04, 1.03370000e+04, 1.03370000e+04,\n",
       "       1.03370000e+04, 1.03370000e+04, 1.03370000e+04, 1.03370000e+04,\n",
       "       1.03370000e+04, 1.03370000e+04, 1.03370000e+04, 1.03370000e+04,\n",
       "       1.03370000e+04, 1.03370000e+04, 1.03370000e+04, 1.03370000e+04,\n",
       "       1.03370000e+04, 1.03370000e+04, 1.03370000e+04, 1.03370000e+04,\n",
       "       1.03370000e+04, 1.03370000e+04, 1.03370000e+04, 1.03370000e+04,\n",
       "       1.03370000e+04, 1.03370000e+04, 1.03370000e+04, 1.03370000e+04,\n",
       "       1.03370000e+04, 1.03370000e+04, 1.03370000e+04, 1.03370000e+04,\n",
       "       1.03370000e+04, 1.03370000e+04, 1.03370000e+04, 1.03370000e+04,\n",
       "       1.03370000e+04, 1.03370000e+04, 1.03370000e+04, 1.03370000e+04,\n",
       "       1.03370000e+04, 1.03370000e+04, 1.03370000e+04, 1.03370000e+04,\n",
       "       1.03370000e+04, 1.03370000e+04, 1.03370000e+04, 1.03370000e+04,\n",
       "       1.03370000e+04, 1.03370000e+04, 1.03370000e+04, 1.03370000e+04,\n",
       "       1.03370000e+04, 1.03370000e+04, 1.03370000e+04, 1.03370000e+04,\n",
       "       1.03370000e+04, 1.03370000e+04, 1.03370000e+04, 1.03370000e+04,\n",
       "       1.03370000e+04, 1.03370000e+04, 1.03370000e+04, 1.03370000e+04,\n",
       "       1.03370000e+04, 1.03370000e+04, 1.03370000e+04, 1.03370000e+04,\n",
       "       1.03370000e+04, 1.03370000e+04, 1.03370000e+04, 1.03370000e+04,\n",
       "       1.03370000e+04, 1.03370000e+04, 1.03370000e+04, 1.03370000e+04,\n",
       "       1.03370000e+04, 1.03370000e+04, 1.03370000e+04, 1.03370000e+04,\n",
       "       1.03370000e+04, 1.03370000e+04, 1.03370000e+04, 1.03370000e+04,\n",
       "       1.03370000e+04, 1.03370000e+04, 1.03370000e+04, 1.03370000e+04,\n",
       "       1.03370000e+04, 1.03370000e+04, 1.03370000e+04, 1.03370000e+04,\n",
       "       1.03370000e+04, 1.03370000e+04, 1.03370000e+04, 1.03370000e+04,\n",
       "       1.03370000e+04, 1.03370000e+04, 1.03370000e+04, 1.03370000e+04,\n",
       "       1.03370000e+04, 1.03370000e+04, 1.03370000e+04, 1.03370000e+04,\n",
       "       1.03370000e+04, 1.03370000e+04, 1.03370000e+04, 1.03370000e+04,\n",
       "       1.03370000e+04, 1.03370000e+04, 1.03370000e+04, 1.03370000e+04,\n",
       "       1.03370000e+04, 1.03370000e+04, 1.03370000e+04, 1.03370000e+04,\n",
       "       1.03370000e+04, 1.03370000e+04, 1.03370000e+04, 1.03370000e+04])"
      ]
     },
     "execution_count": 28,
     "metadata": {},
     "output_type": "execute_result"
    }
   ],
   "source": [
    "NN_p3 = Neural_Network()\n",
    "            \n",
    "costs_p3 = []\n",
    "\n",
    "for i in np.arange(0,1000):\n",
    "    cost_i_p3 = NN_p3.costFunction(X, y)\n",
    "    costs_p3= np.append(costs_p3,cost_i_p3)\n",
    "    \n",
    "    dJdW1, dJdW2, dJdW3 = NN_p3.costFunctionPrime(X, y)\n",
    "    \n",
    "    NN_p3.W1 = NN_p3.W1 - scalar*dJdW1\n",
    "    NN_p3.W2 = NN_p3.W2 - scalar*dJdW2\n",
    "    NN_p3.W3 = NN_p3.W3 - scalar*dJdW3\n",
    "    \n",
    "costs_p3"
   ]
  },
  {
   "cell_type": "markdown",
   "metadata": {},
   "source": [
    "## I was unable to implement the 10 hidden layers, even though I think that I did everything correctly. I don't recommend running the following cells, because they will error!"
   ]
  },
  {
   "cell_type": "code",
   "execution_count": 33,
   "metadata": {},
   "outputs": [
    {
     "ename": "ValueError",
     "evalue": "operands could not be broadcast together with shapes (8,4) (1,3) ",
     "output_type": "error",
     "traceback": [
      "\u001b[0;31m---------------------------------------------------------------------------\u001b[0m",
      "\u001b[0;31mValueError\u001b[0m                                Traceback (most recent call last)",
      "\u001b[0;32m/var/folders/yj/5k1nk0w12w1bg_p4v_cm06h00000gn/T/ipykernel_37100/961941208.py\u001b[0m in \u001b[0;36m<module>\u001b[0;34m\u001b[0m\n\u001b[1;32m      9\u001b[0m     \u001b[0marr\u001b[0m \u001b[0;34m=\u001b[0m \u001b[0mNN_p10\u001b[0m\u001b[0;34m.\u001b[0m\u001b[0mreluPrime\u001b[0m\u001b[0;34m(\u001b[0m\u001b[0mz_10\u001b[0m\u001b[0;34m)\u001b[0m\u001b[0;34m\u001b[0m\u001b[0;34m\u001b[0m\u001b[0m\n\u001b[1;32m     10\u001b[0m     \u001b[0mNN_p10\u001b[0m\u001b[0;34m.\u001b[0m\u001b[0mW1\u001b[0m \u001b[0;34m=\u001b[0m \u001b[0mNN_p10\u001b[0m\u001b[0;34m.\u001b[0m\u001b[0mW1\u001b[0m \u001b[0;34m-\u001b[0m \u001b[0mscalar\u001b[0m\u001b[0;34m*\u001b[0m\u001b[0mdJdW1\u001b[0m\u001b[0;34m\u001b[0m\u001b[0;34m\u001b[0m\u001b[0m\n\u001b[0;32m---> 11\u001b[0;31m     \u001b[0mNN_p10\u001b[0m\u001b[0;34m.\u001b[0m\u001b[0mW2\u001b[0m \u001b[0;34m=\u001b[0m \u001b[0mNN_p10\u001b[0m\u001b[0;34m.\u001b[0m\u001b[0mW2\u001b[0m \u001b[0;34m-\u001b[0m \u001b[0mscalar\u001b[0m\u001b[0;34m*\u001b[0m\u001b[0mnp\u001b[0m\u001b[0;34m.\u001b[0m\u001b[0mreshape\u001b[0m\u001b[0;34m(\u001b[0m\u001b[0marr\u001b[0m\u001b[0;34m,\u001b[0m \u001b[0;34m(\u001b[0m\u001b[0;36m1\u001b[0m\u001b[0;34m,\u001b[0m\u001b[0;36m3\u001b[0m\u001b[0;34m)\u001b[0m\u001b[0;34m)\u001b[0m\u001b[0;34m\u001b[0m\u001b[0;34m\u001b[0m\u001b[0m\n\u001b[0m\u001b[1;32m     12\u001b[0m \u001b[0;34m\u001b[0m\u001b[0m\n\u001b[1;32m     13\u001b[0m \u001b[0mcosts_p10\u001b[0m\u001b[0;34m\u001b[0m\u001b[0;34m\u001b[0m\u001b[0m\n",
      "\u001b[0;31mValueError\u001b[0m: operands could not be broadcast together with shapes (8,4) (1,3) "
     ]
    }
   ],
   "source": [
    "NN_p10 = Neural_Network()\n",
    "\n",
    "scalar = 0.25\n",
    "#costs_p2 = []\n",
    "yHat_10 = np.array(NN_p10.forward(X))\n",
    "z_10 = yHat_10 - y\n",
    "for i in np.arange(0,50):\n",
    "    costs_p10 = NN_p10.relu(z_10)\n",
    "    arr = NN_p10.reluPrime(z_10)\n",
    "    NN_p10.W1 = NN_p10.W1 - scalar*dJdW1\n",
    "    NN_p10.W2 = NN_p10.W2 - scalar*np.reshape(arr, (1,3))\n",
    "\n",
    "costs_p10"
   ]
  },
  {
   "cell_type": "code",
   "execution_count": null,
   "metadata": {},
   "outputs": [],
   "source": []
  },
  {
   "cell_type": "code",
   "execution_count": null,
   "metadata": {},
   "outputs": [],
   "source": []
  },
  {
   "cell_type": "code",
   "execution_count": null,
   "metadata": {},
   "outputs": [],
   "source": [
    "'''\n",
    "def minimize_cost(self, X, y, scalar):\n",
    "    dJW1 = costFunctionPrime(self, X, y)\n",
    "    #NN.W1 = \n",
    "    for i in dJW1:\n",
    "        if dJdW1 > 0:\n",
    "        #if cost fcn derivative at a point is positive, move to the left (down the slope)\n",
    "            NN.W1 = NN.W1 - (scalar*dJdW1)\n",
    "            NN.\n",
    "        elif dJdW1 < 0:\n",
    "        #if cost fcn derivative at a point is negative, move to the right (down the slope, try to\n",
    "        #try to find a more negative value)\n",
    "            NN.W1 = NN.W1 + (scalar*dJdW1)\n",
    "        else:\n",
    "        #if cost fcn derivative is 0, we have reached a minimum (local or global)\n",
    "            target = NN.W1\n",
    "    return target\n",
    "'''\n"
   ]
  },
  {
   "cell_type": "code",
   "execution_count": null,
   "metadata": {},
   "outputs": [],
   "source": [
    "'''\n",
    "array=[]\n",
    "number_to_it=0\n",
    "threshold=0.001\n",
    "scalar=3\n",
    "cost=NN.costFunction(X,y)\n",
    "while cost>threshold:\n",
    "    dJdW1, dJdw2 = NN.costFunctionPrime(X,y)\n",
    "    NN.W1 = NN.W1 - scalar*dJdW1\n",
    "    NN.W2 = NN.W2 - scalar*dJdW2\n",
    "    cost = NN.costFunction(X,y)\n",
    "    number_to_it+=1\n",
    "    array.append(cost)\n",
    "    \n",
    "print(number_to_it)\n",
    "'''"
   ]
  },
  {
   "cell_type": "code",
   "execution_count": null,
   "metadata": {},
   "outputs": [],
   "source": [
    "num_iterations=0\n",
    "costs=[]\n",
    "scalar=3\n",
    "while 1-NN.costFunction(X,y) < 0.9999:\n",
    "    dJdW1, dJdW2 = NN.costFunctionPrime(X,y)\n",
    "    NN.W1=NN.W1 - scalar*dJdW1\n",
    "    NN.W2 = NN.W2 - scalar*dJdW2\n",
    "    cost = NN.costFunction(X,y)\n",
    "    costs.append(cost)\n",
    "    num_iterations+=1\n",
    "    \n",
    "    iterations = np.arange(0, num_iterations)\n",
    "    \n",
    "print(num_iterations)"
   ]
  }
 ],
 "metadata": {
  "kernelspec": {
   "display_name": "Python 3 (ipykernel)",
   "language": "python",
   "name": "python3"
  },
  "language_info": {
   "codemirror_mode": {
    "name": "ipython",
    "version": 3
   },
   "file_extension": ".py",
   "mimetype": "text/x-python",
   "name": "python",
   "nbconvert_exporter": "python",
   "pygments_lexer": "ipython3",
   "version": "3.9.7"
  }
 },
 "nbformat": 4,
 "nbformat_minor": 2
}
